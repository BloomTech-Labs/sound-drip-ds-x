{
 "cells": [
  {
   "cell_type": "markdown",
   "metadata": {},
   "source": [
    "## KNN from song_list_v7_binned.pkl"
   ]
  },
  {
   "cell_type": "code",
   "execution_count": 1,
   "metadata": {},
   "outputs": [],
   "source": [
    "import ast\n",
    "from joblib import dump, load\n",
    "import numpy as np\n",
    "import pickle\n",
    "import pandas as pd\n",
    "from sklearn.compose import make_column_transformer\n",
    "from sklearn.neighbors import NearestNeighbors\n",
    "from sklearn.pipeline import make_pipeline\n",
    "from sklearn.preprocessing import StandardScaler, MinMaxScaler, Normalizer, OrdinalEncoder"
   ]
  },
  {
   "cell_type": "markdown",
   "metadata": {},
   "source": [
    "##### Read in data(frame)"
   ]
  },
  {
   "cell_type": "code",
   "execution_count": 2,
   "metadata": {},
   "outputs": [],
   "source": [
    "song_df = pickle.load(open(r'C:\\Users\\mjhar\\Downloads\\song_list_v7_binned.pkl','rb'))"
   ]
  },
  {
   "cell_type": "code",
   "execution_count": 3,
   "metadata": {
    "collapsed": true,
    "jupyter": {
     "outputs_hidden": true
    }
   },
   "outputs": [
    {
     "name": "stdout",
     "output_type": "stream",
     "text": [
      "<class 'pandas.core.frame.DataFrame'>\n",
      "RangeIndex: 555160 entries, 0 to 555159\n",
      "Data columns (total 21 columns):\n",
      " #   Column            Non-Null Count   Dtype   \n",
      "---  ------            --------------   -----   \n",
      " 0   songid            555160 non-null  object  \n",
      " 1   availability      555160 non-null  float64 \n",
      " 2   year              555160 non-null  int64   \n",
      " 3   quin_bins         555160 non-null  category\n",
      " 4   popularity        555160 non-null  object  \n",
      " 5   acousticness      555160 non-null  float64 \n",
      " 6   artist            555160 non-null  object  \n",
      " 7   danceability      555160 non-null  float64 \n",
      " 8   duration_ms       555160 non-null  float64 \n",
      " 9   energy            555160 non-null  float64 \n",
      " 10  instrumentalness  555160 non-null  float64 \n",
      " 11  key               555160 non-null  float64 \n",
      " 12  liveness          555160 non-null  float64 \n",
      " 13  loudness          555160 non-null  float64 \n",
      " 14  mode              555160 non-null  float64 \n",
      " 15  speechiness       555160 non-null  float64 \n",
      " 16  tempo             555160 non-null  float64 \n",
      " 17  time_signature    555160 non-null  float64 \n",
      " 18  track             555160 non-null  object  \n",
      " 19  valence           555160 non-null  float64 \n",
      " 20  genres            555160 non-null  object  \n",
      "dtypes: category(1), float64(14), int64(1), object(5)\n",
      "memory usage: 74.7+ MB\n"
     ]
    }
   ],
   "source": [
    "song_df.info()"
   ]
  },
  {
   "cell_type": "markdown",
   "metadata": {},
   "source": [
    "##### Replacing labels to be easily sorted for OrdinalEncoder"
   ]
  },
  {
   "cell_type": "code",
   "execution_count": 4,
   "metadata": {},
   "outputs": [],
   "source": [
    "replacements = {\n",
    "    '90-95' : '1990-1995',\n",
    "    '95-2000' : '1995-2000',\n",
    "    '75-80' : '1975-1980',\n",
    "    '85-90' : '1985-1990',\n",
    "    '80-85' : '1980-1985',\n",
    "    '50-60' : '1950-1960',\n",
    "    '60-65' : '1960-1965',\n",
    "    '>50s' : '0-1950',\n",
    "    '65-70' : '1965-1970',\n",
    "    '70-75' : '1970-1975',\n",
    "    '2020' : '2020-2021'\n",
    "}\n",
    "\n",
    "for key, val in replacements.items():\n",
    "    song_df['quin_bins'] = song_df['quin_bins'].replace(key,val)"
   ]
  },
  {
   "cell_type": "markdown",
   "metadata": {},
   "source": [
    "##### Defining data columns by data type"
   ]
  },
  {
   "cell_type": "code",
   "execution_count": 5,
   "metadata": {},
   "outputs": [],
   "source": [
    "cat_cols = ['quin_bins']\n",
    "num_cols = ['acousticness', 'danceability', 'energy', 'instrumentalness', \n",
    "            'liveness', 'loudness', 'mode', 'speechiness',\n",
    "            'tempo', 'time_signature', 'valence']"
   ]
  },
  {
   "cell_type": "markdown",
   "metadata": {},
   "source": [
    "##### Split columns by data type for processing"
   ]
  },
  {
   "cell_type": "code",
   "execution_count": 6,
   "metadata": {},
   "outputs": [],
   "source": [
    "num_df = song_df[num_cols]\n",
    "cat_df = song_df[cat_cols]"
   ]
  },
  {
   "cell_type": "markdown",
   "metadata": {},
   "source": [
    "##### Apply processors to data and combine"
   ]
  },
  {
   "cell_type": "code",
   "execution_count": 7,
   "metadata": {},
   "outputs": [],
   "source": [
    "encoder = OrdinalEncoder()                \n",
    "enc_arr = encoder.fit_transform(cat_df)"
   ]
  },
  {
   "cell_type": "code",
   "execution_count": 8,
   "metadata": {},
   "outputs": [],
   "source": [
    "scaler = MinMaxScaler()                  \n",
    "scale_arr = scaler.fit_transform(num_df)"
   ]
  },
  {
   "cell_type": "code",
   "execution_count": 9,
   "metadata": {},
   "outputs": [],
   "source": [
    "processed_data = np.concatenate((enc_arr, scale_arr),axis=1)"
   ]
  },
  {
   "cell_type": "markdown",
   "metadata": {},
   "source": [
    "##### Normalize rows for NN"
   ]
  },
  {
   "cell_type": "code",
   "execution_count": 10,
   "metadata": {},
   "outputs": [],
   "source": [
    "normalizer = Normalizer()                             \n",
    "model_data = normalizer.fit_transform(processed_data)"
   ]
  },
  {
   "cell_type": "markdown",
   "metadata": {},
   "source": [
    "##### Instantiate  and fit model"
   ]
  },
  {
   "cell_type": "code",
   "execution_count": 11,
   "metadata": {},
   "outputs": [],
   "source": [
    "model = NearestNeighbors(n_neighbors=10000,algorithm='kd_tree',n_jobs=-1)"
   ]
  },
  {
   "cell_type": "code",
   "execution_count": 12,
   "metadata": {},
   "outputs": [],
   "source": [
    "nn = model.fit(model_data)"
   ]
  },
  {
   "cell_type": "markdown",
   "metadata": {},
   "source": [
    "##### Test output"
   ]
  },
  {
   "cell_type": "code",
   "execution_count": 13,
   "metadata": {},
   "outputs": [],
   "source": [
    "results = nn.kneighbors([model_data[377]])"
   ]
  },
  {
   "cell_type": "code",
   "execution_count": 14,
   "metadata": {},
   "outputs": [
    {
     "data": {
      "text/plain": [
       "array([[   377, 343442, 215261, ...,  39142, 261980,  67983]], dtype=int32)"
      ]
     },
     "execution_count": 14,
     "metadata": {},
     "output_type": "execute_result"
    }
   ],
   "source": [
    "results[1]"
   ]
  },
  {
   "cell_type": "code",
   "execution_count": 15,
   "metadata": {},
   "outputs": [
    {
     "data": {
      "text/plain": [
       "artist            Jimmy Nail\n",
       "track               W.L.T.M.\n",
       "genres    ['classic uk pop']\n",
       "Name: 377, dtype: object"
      ]
     },
     "execution_count": 15,
     "metadata": {},
     "output_type": "execute_result"
    }
   ],
   "source": [
    "song_df.iloc[377][['artist', 'track', 'genres']]"
   ]
  },
  {
   "cell_type": "code",
   "execution_count": 16,
   "metadata": {},
   "outputs": [
    {
     "data": {
      "text/plain": [
       "artist                                           Carey Bell\n",
       "track                                         Just Like You\n",
       "genres    ['blues', 'chicago blues', 'electric blues', '...\n",
       "Name: 343442, dtype: object"
      ]
     },
     "execution_count": 16,
     "metadata": {},
     "output_type": "execute_result"
    }
   ],
   "source": [
    "song_df.iloc[343442][['artist', 'track', 'genres']]"
   ]
  },
  {
   "cell_type": "markdown",
   "metadata": {},
   "source": [
    "##### Genre matching nn results"
   ]
  },
  {
   "cell_type": "code",
   "execution_count": null,
   "metadata": {},
   "outputs": [],
   "source": []
  },
  {
   "cell_type": "markdown",
   "metadata": {},
   "source": [
    "#### Graveyard"
   ]
  },
  {
   "cell_type": "markdown",
   "metadata": {},
   "source": [
    "##### unused pipeline attempt"
   ]
  },
  {
   "cell_type": "code",
   "execution_count": null,
   "metadata": {
    "jupyter": {
     "source_hidden": true
    }
   },
   "outputs": [],
   "source": [
    "category_pipeline = make_pipeline(\n",
    "    OrdinalEncoder())\n",
    "\n",
    "numeric_pipeline = make_pipeline(\n",
    "    MinMaxScaler())\n",
    "\n",
    "processor = make_column_transformer(\n",
    "    (category_pipeline, cat_cols),\n",
    "    (numeric_pipeline, num_cols),\n",
    "    )\n",
    "\n",
    "nn_pipeline = make_pipeline(\n",
    "    processor,\n",
    "    NearestNeighbors(n_neighbors=10000,algorithm='kd_tree',n_jobs=-1))"
   ]
  }
 ],
 "metadata": {
  "kernelspec": {
   "display_name": "sklearn",
   "language": "python",
   "name": "sklearn"
  },
  "language_info": {
   "codemirror_mode": {
    "name": "ipython",
    "version": 3
   },
   "file_extension": ".py",
   "mimetype": "text/x-python",
   "name": "python",
   "nbconvert_exporter": "python",
   "pygments_lexer": "ipython3",
   "version": "3.8.3"
  }
 },
 "nbformat": 4,
 "nbformat_minor": 4
}
