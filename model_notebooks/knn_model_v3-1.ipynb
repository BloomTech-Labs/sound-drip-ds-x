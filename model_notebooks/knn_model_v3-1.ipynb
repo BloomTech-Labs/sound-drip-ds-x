{
 "cells": [
  {
   "cell_type": "markdown",
   "metadata": {},
   "source": [
    "## KNN from song_list_v7_binned.pkl"
   ]
  },
  {
   "cell_type": "code",
   "execution_count": 1,
   "metadata": {},
   "outputs": [],
   "source": [
    "from joblib import dump, load\n",
    "import numpy as np\n",
    "import pickle\n",
    "import pandas as pd\n",
    "from sklearn.compose import make_column_transformer\n",
    "from sklearn.neighbors import NearestNeighbors\n",
    "from sklearn.preprocessing import StandardScaler, MinMaxScaler, Normalizer, OrdinalEncoder"
   ]
  },
  {
   "cell_type": "markdown",
   "metadata": {},
   "source": [
    "#### Read in data(frame)"
   ]
  },
  {
   "cell_type": "code",
   "execution_count": 2,
   "metadata": {},
   "outputs": [],
   "source": [
    "song_df = pickle.load(open(r'C:\\Users\\mjhar\\Downloads\\song_list_v7_binned.pkl','rb'))"
   ]
  },
  {
   "cell_type": "code",
   "execution_count": 3,
   "metadata": {
    "collapsed": true,
    "jupyter": {
     "outputs_hidden": true
    }
   },
   "outputs": [
    {
     "name": "stdout",
     "output_type": "stream",
     "text": [
      "<class 'pandas.core.frame.DataFrame'>\n",
      "RangeIndex: 555160 entries, 0 to 555159\n",
      "Data columns (total 21 columns):\n",
      " #   Column            Non-Null Count   Dtype   \n",
      "---  ------            --------------   -----   \n",
      " 0   songid            555160 non-null  object  \n",
      " 1   availability      555160 non-null  float64 \n",
      " 2   year              555160 non-null  int64   \n",
      " 3   quin_bins         555160 non-null  category\n",
      " 4   popularity        555160 non-null  object  \n",
      " 5   acousticness      555160 non-null  float64 \n",
      " 6   artist            555160 non-null  object  \n",
      " 7   danceability      555160 non-null  float64 \n",
      " 8   duration_ms       555160 non-null  float64 \n",
      " 9   energy            555160 non-null  float64 \n",
      " 10  instrumentalness  555160 non-null  float64 \n",
      " 11  key               555160 non-null  float64 \n",
      " 12  liveness          555160 non-null  float64 \n",
      " 13  loudness          555160 non-null  float64 \n",
      " 14  mode              555160 non-null  float64 \n",
      " 15  speechiness       555160 non-null  float64 \n",
      " 16  tempo             555160 non-null  float64 \n",
      " 17  time_signature    555160 non-null  float64 \n",
      " 18  track             555160 non-null  object  \n",
      " 19  valence           555160 non-null  float64 \n",
      " 20  genres            555160 non-null  object  \n",
      "dtypes: category(1), float64(14), int64(1), object(5)\n",
      "memory usage: 74.7+ MB\n"
     ]
    }
   ],
   "source": [
    "song_df.info()"
   ]
  },
  {
   "cell_type": "markdown",
   "metadata": {},
   "source": [
    "#### Replacing labels to b easily sorted for OrdinalEncode"
   ]
  },
  {
   "cell_type": "code",
   "execution_count": 4,
   "metadata": {},
   "outputs": [],
   "source": [
    "replacements = {\n",
    "    '90-95' : '1990-1995',\n",
    "    '95-2000' : '1995-2000',\n",
    "    '75-80' : '1975-1980',\n",
    "    '85-90' : '1985-1990',\n",
    "    '80-85' : '1980-1985',\n",
    "    '50-60' : '1950-1960',\n",
    "    '60-65' : '1960-1965',\n",
    "    '>50s' : '0-1950',\n",
    "    '65-70' : '1965-1970',\n",
    "    '70-75' : '1970-1975',\n",
    "    '2020' : '2020-2021'\n",
    "}\n",
    "\n",
    "for key, val in replacements.items():\n",
    "    song_df['quin_bins'] = song_df['quin_bins'].replace(key,val)\n",
    "    \n",
    "cats = sorted(list(song_df['quin_bins'].unique()))"
   ]
  },
  {
   "cell_type": "code",
   "execution_count": null,
   "metadata": {},
   "outputs": [],
   "source": []
  }
 ],
 "metadata": {
  "kernelspec": {
   "display_name": "sklearn",
   "language": "python",
   "name": "sklearn"
  },
  "language_info": {
   "codemirror_mode": {
    "name": "ipython",
    "version": 3
   },
   "file_extension": ".py",
   "mimetype": "text/x-python",
   "name": "python",
   "nbconvert_exporter": "python",
   "pygments_lexer": "ipython3",
   "version": "3.8.3"
  }
 },
 "nbformat": 4,
 "nbformat_minor": 4
}
