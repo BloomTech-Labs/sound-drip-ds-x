{
 "cells": [
  {
   "cell_type": "markdown",
   "metadata": {},
   "source": [
    "## KNN from song_list_v7_binned.pkl"
   ]
  },
  {
   "cell_type": "code",
   "execution_count": 1,
   "metadata": {},
   "outputs": [],
   "source": [
    "import ast\n",
    "from joblib import dump, load\n",
    "import numpy as np\n",
    "import pickle\n",
    "import pandas as pd\n",
    "from sklearn.compose import make_column_transformer\n",
    "from sklearn.neighbors import NearestNeighbors\n",
    "from sklearn.pipeline import make_pipeline\n",
    "from sklearn.preprocessing import StandardScaler, MinMaxScaler, Normalizer, OrdinalEncoder"
   ]
  },
  {
   "cell_type": "markdown",
   "metadata": {},
   "source": [
    "##### Read in data(frame)"
   ]
  },
  {
   "cell_type": "code",
   "execution_count": 2,
   "metadata": {},
   "outputs": [],
   "source": [
    "song_df = pickle.load(open(r'C:\\Users\\mjhar\\Downloads\\song_list_v7_binned.pkl','rb'))"
   ]
  },
  {
   "cell_type": "code",
   "execution_count": 3,
   "metadata": {},
   "outputs": [
    {
     "name": "stdout",
     "output_type": "stream",
     "text": [
      "<class 'pandas.core.frame.DataFrame'>\n",
      "RangeIndex: 555160 entries, 0 to 555159\n",
      "Data columns (total 21 columns):\n",
      " #   Column            Non-Null Count   Dtype   \n",
      "---  ------            --------------   -----   \n",
      " 0   songid            555160 non-null  object  \n",
      " 1   availability      555160 non-null  float64 \n",
      " 2   year              555160 non-null  int64   \n",
      " 3   quin_bins         555160 non-null  category\n",
      " 4   popularity        555160 non-null  object  \n",
      " 5   acousticness      555160 non-null  float64 \n",
      " 6   artist            555160 non-null  object  \n",
      " 7   danceability      555160 non-null  float64 \n",
      " 8   duration_ms       555160 non-null  float64 \n",
      " 9   energy            555160 non-null  float64 \n",
      " 10  instrumentalness  555160 non-null  float64 \n",
      " 11  key               555160 non-null  float64 \n",
      " 12  liveness          555160 non-null  float64 \n",
      " 13  loudness          555160 non-null  float64 \n",
      " 14  mode              555160 non-null  float64 \n",
      " 15  speechiness       555160 non-null  float64 \n",
      " 16  tempo             555160 non-null  float64 \n",
      " 17  time_signature    555160 non-null  float64 \n",
      " 18  track             555160 non-null  object  \n",
      " 19  valence           555160 non-null  float64 \n",
      " 20  genres            555160 non-null  object  \n",
      "dtypes: category(1), float64(14), int64(1), object(5)\n",
      "memory usage: 74.7+ MB\n"
     ]
    }
   ],
   "source": [
    "song_df.info()"
   ]
  },
  {
   "cell_type": "markdown",
   "metadata": {},
   "source": [
    "##### Replacing labels to be easily sorted for OrdinalEncoder"
   ]
  },
  {
   "cell_type": "code",
   "execution_count": 4,
   "metadata": {},
   "outputs": [],
   "source": [
    "replacements = {\n",
    "    '90-95' : '1990-1995',\n",
    "    '95-2000' : '1995-2000',\n",
    "    '75-80' : '1975-1980',\n",
    "    '85-90' : '1985-1990',\n",
    "    '80-85' : '1980-1985',\n",
    "    '50-60' : '1950-1960',\n",
    "    '60-65' : '1960-1965',\n",
    "    '>50s' : '0-1950',\n",
    "    '65-70' : '1965-1970',\n",
    "    '70-75' : '1970-1975',\n",
    "    '2020' : '2020-2021'\n",
    "}\n",
    "\n",
    "for key, val in replacements.items():\n",
    "    song_df['quin_bins'] = song_df['quin_bins'].replace(key,val)"
   ]
  },
  {
   "cell_type": "markdown",
   "metadata": {},
   "source": [
    "##### Defining data columns by data type"
   ]
  },
  {
   "cell_type": "code",
   "execution_count": 5,
   "metadata": {},
   "outputs": [],
   "source": [
    "cat_cols = ['quin_bins']\n",
    "num_cols = ['acousticness', 'danceability', 'energy', 'instrumentalness', \n",
    "            'liveness', 'loudness', 'mode', 'speechiness',\n",
    "            'tempo', 'time_signature', 'valence']"
   ]
  },
  {
   "cell_type": "markdown",
   "metadata": {},
   "source": [
    "##### Split columns by data type for processing"
   ]
  },
  {
   "cell_type": "code",
   "execution_count": 6,
   "metadata": {},
   "outputs": [],
   "source": [
    "num_df = song_df[num_cols]\n",
    "cat_df = song_df[cat_cols]"
   ]
  },
  {
   "cell_type": "markdown",
   "metadata": {},
   "source": [
    "##### Apply processors to data and combine"
   ]
  },
  {
   "cell_type": "code",
   "execution_count": 7,
   "metadata": {},
   "outputs": [],
   "source": [
    "encoder = OrdinalEncoder()                \n",
    "enc_arr = encoder.fit_transform(cat_df)"
   ]
  },
  {
   "cell_type": "code",
   "execution_count": 8,
   "metadata": {},
   "outputs": [],
   "source": [
    "scaler = MinMaxScaler()                  \n",
    "scale_arr = scaler.fit_transform(num_df)"
   ]
  },
  {
   "cell_type": "code",
   "execution_count": 9,
   "metadata": {},
   "outputs": [],
   "source": [
    "processed_data = np.concatenate((enc_arr, scale_arr),axis=1)"
   ]
  },
  {
   "cell_type": "markdown",
   "metadata": {},
   "source": [
    "##### Normalize rows for NN"
   ]
  },
  {
   "cell_type": "code",
   "execution_count": 10,
   "metadata": {},
   "outputs": [],
   "source": [
    "normalizer = Normalizer()                             \n",
    "model_data = normalizer.fit_transform(processed_data)"
   ]
  },
  {
   "cell_type": "markdown",
   "metadata": {},
   "source": [
    "##### Instantiate  and fit model"
   ]
  },
  {
   "cell_type": "code",
   "execution_count": 11,
   "metadata": {},
   "outputs": [],
   "source": [
    "model = NearestNeighbors(n_neighbors=10000,algorithm='kd_tree',n_jobs=-1)"
   ]
  },
  {
   "cell_type": "code",
   "execution_count": 12,
   "metadata": {},
   "outputs": [],
   "source": [
    "nn = model.fit(model_data)"
   ]
  },
  {
   "cell_type": "markdown",
   "metadata": {},
   "source": [
    "##### Test output"
   ]
  },
  {
   "cell_type": "code",
   "execution_count": 13,
   "metadata": {},
   "outputs": [],
   "source": [
    "results = nn.kneighbors([model_data[377]])"
   ]
  },
  {
   "cell_type": "code",
   "execution_count": 14,
   "metadata": {},
   "outputs": [
    {
     "data": {
      "text/plain": [
       "array([[   377, 343442, 215261, ...,  39142, 261980,  67983]], dtype=int32)"
      ]
     },
     "execution_count": 14,
     "metadata": {},
     "output_type": "execute_result"
    }
   ],
   "source": [
    "results[1]"
   ]
  },
  {
   "cell_type": "code",
   "execution_count": 15,
   "metadata": {},
   "outputs": [
    {
     "data": {
      "text/plain": [
       "artist            Jimmy Nail\n",
       "track               W.L.T.M.\n",
       "genres    ['classic uk pop']\n",
       "Name: 377, dtype: object"
      ]
     },
     "execution_count": 15,
     "metadata": {},
     "output_type": "execute_result"
    }
   ],
   "source": [
    "song_df.iloc[377][['artist', 'track', 'genres']]"
   ]
  },
  {
   "cell_type": "code",
   "execution_count": 16,
   "metadata": {},
   "outputs": [
    {
     "data": {
      "text/plain": [
       "artist                                           Carey Bell\n",
       "track                                         Just Like You\n",
       "genres    ['blues', 'chicago blues', 'electric blues', '...\n",
       "Name: 343442, dtype: object"
      ]
     },
     "execution_count": 16,
     "metadata": {},
     "output_type": "execute_result"
    }
   ],
   "source": [
    "song_df.iloc[343442][['artist', 'track', 'genres']]"
   ]
  },
  {
   "cell_type": "markdown",
   "metadata": {},
   "source": [
    "##### Genre matching nn results"
   ]
  },
  {
   "cell_type": "code",
   "execution_count": 17,
   "metadata": {},
   "outputs": [
    {
     "data": {
      "text/plain": [
       "\"['cartoon','childrens music']\""
      ]
     },
     "execution_count": 17,
     "metadata": {},
     "output_type": "execute_result"
    }
   ],
   "source": [
    "string=\"['cartoon','children's music']\"\n",
    "\n",
    "def remove_apos(string):\n",
    "    aidx = []\n",
    "    for idx, elem in enumerate(string):\n",
    "    \n",
    "        if elem == ',':\n",
    "        \n",
    "            if len(aidx)%2 == 0:\n",
    "                aidx = []\n",
    "                continue\n",
    "        \n",
    "            else:\n",
    "                a_idx = aidx[1]\n",
    "                string = string[:a_idx] + string[a_idx+1:]\n",
    "                aidx = []\n",
    "                continue\n",
    "    \n",
    "        elif elem == ']':\n",
    "            if len(aidx)%2 == 0:\n",
    "                continue\n",
    "            \n",
    "            else:\n",
    "                a_idx = aidx[1]\n",
    "                string = string[:a_idx] + string[a_idx+1:]\n",
    "                continue\n",
    "            \n",
    "    \n",
    "        elif elem == \"'\":\n",
    "            aidx.append(idx)\n",
    "            \n",
    "    return string\n",
    "    \n",
    "remove_apos(string)"
   ]
  },
  {
   "cell_type": "code",
   "execution_count": 18,
   "metadata": {},
   "outputs": [],
   "source": [
    "def genre_match(seed_genre_string, nn_arr, song_df):\n",
    "    \n",
    "    genre_matches_idx = []\n",
    "\n",
    "    try:\n",
    "        seed_genres = set(ast.literal_eval(seed_genre_string))\n",
    "\n",
    "    except SyntaxError:\n",
    "        cleaned = remove_apos(seed_genre_string)\n",
    "        seed_genres = set(ast.literal_eval(cleaned))\n",
    "\n",
    "\n",
    "    for idx in nn_arr[1][0]:\n",
    "    \n",
    "        try:\n",
    "            nn_genres = set(ast.literal_eval(song_df.iloc[idx]['genres']))\n",
    "    \n",
    "        except SyntaxError:\n",
    "            cleaned = remove_apos(song_df.iloc[idx]['genres'])\n",
    "            nn_genres = set(ast.literal_eval(cleaned))\n",
    "    \n",
    "        matched = set.intersection(seed_genres, nn_genres)\n",
    "    \n",
    "        if matched:\n",
    "            genre_matches_idx.append(idx)\n",
    "        \n",
    "    return genre_matches_idx"
   ]
  },
  {
   "cell_type": "code",
   "execution_count": 19,
   "metadata": {
    "collapsed": true,
    "jupyter": {
     "outputs_hidden": true
    }
   },
   "outputs": [
    {
     "data": {
      "text/plain": [
       "[377,\n",
       " 120891,\n",
       " 107544,\n",
       " 297416,\n",
       " 228415,\n",
       " 76407,\n",
       " 373865,\n",
       " 355249,\n",
       " 247937,\n",
       " 470351,\n",
       " 204131,\n",
       " 85465,\n",
       " 381167,\n",
       " 309803,\n",
       " 79666,\n",
       " 204008,\n",
       " 163699,\n",
       " 127817,\n",
       " 341804,\n",
       " 9142,\n",
       " 68119,\n",
       " 34104,\n",
       " 270279,\n",
       " 263760,\n",
       " 384389,\n",
       " 461414,\n",
       " 9379,\n",
       " 466404,\n",
       " 334471,\n",
       " 316919,\n",
       " 135223,\n",
       " 1371,\n",
       " 251463,\n",
       " 154400,\n",
       " 134000,\n",
       " 218216,\n",
       " 17401,\n",
       " 15270,\n",
       " 264462,\n",
       " 257621,\n",
       " 299340,\n",
       " 262154,\n",
       " 203873,\n",
       " 341931,\n",
       " 168047,\n",
       " 173441,\n",
       " 145724,\n",
       " 335586,\n",
       " 45277,\n",
       " 418669,\n",
       " 157736,\n",
       " 287878,\n",
       " 326530,\n",
       " 299418,\n",
       " 169433,\n",
       " 95108,\n",
       " 433455,\n",
       " 449542,\n",
       " 269455,\n",
       " 446186,\n",
       " 22312,\n",
       " 224475,\n",
       " 227869,\n",
       " 39208,\n",
       " 445237,\n",
       " 73777,\n",
       " 148942,\n",
       " 183150,\n",
       " 141703,\n",
       " 426948,\n",
       " 119420,\n",
       " 32083,\n",
       " 363708,\n",
       " 431379,\n",
       " 33904,\n",
       " 60250,\n",
       " 50497,\n",
       " 252545,\n",
       " 388363,\n",
       " 48218,\n",
       " 142165,\n",
       " 16029,\n",
       " 309500,\n",
       " 402980,\n",
       " 321264,\n",
       " 373049,\n",
       " 15068,\n",
       " 345643,\n",
       " 75242,\n",
       " 340906,\n",
       " 285161,\n",
       " 246353,\n",
       " 441634,\n",
       " 334833,\n",
       " 246251,\n",
       " 139949,\n",
       " 323644,\n",
       " 96570,\n",
       " 450052,\n",
       " 34304,\n",
       " 461559,\n",
       " 361826,\n",
       " 214005,\n",
       " 76507,\n",
       " 163320,\n",
       " 306030,\n",
       " 27450,\n",
       " 228933,\n",
       " 423313,\n",
       " 247015,\n",
       " 430371,\n",
       " 9104,\n",
       " 33628,\n",
       " 343394,\n",
       " 55784,\n",
       " 275791,\n",
       " 442079,\n",
       " 377746,\n",
       " 305667,\n",
       " 184894,\n",
       " 205057,\n",
       " 341360,\n",
       " 5920,\n",
       " 246662,\n",
       " 219510,\n",
       " 148083,\n",
       " 286314,\n",
       " 86605,\n",
       " 9234,\n",
       " 85083,\n",
       " 219466,\n",
       " 92919,\n",
       " 253376,\n",
       " 445564,\n",
       " 121741,\n",
       " 400838,\n",
       " 399818,\n",
       " 231201,\n",
       " 78550,\n",
       " 140075,\n",
       " 457610,\n",
       " 1798,\n",
       " 85774,\n",
       " 106232,\n",
       " 44015,\n",
       " 2749,\n",
       " 445845,\n",
       " 272128,\n",
       " 61150,\n",
       " 265736,\n",
       " 65822,\n",
       " 30629,\n",
       " 371032,\n",
       " 31494,\n",
       " 301064,\n",
       " 3717,\n",
       " 142531,\n",
       " 359026,\n",
       " 408821,\n",
       " 163259,\n",
       " 404499,\n",
       " 457467,\n",
       " 24922,\n",
       " 319034,\n",
       " 35222,\n",
       " 406814,\n",
       " 135185,\n",
       " 338539]"
      ]
     },
     "execution_count": 19,
     "metadata": {},
     "output_type": "execute_result"
    }
   ],
   "source": [
    "genre_match(song_df.iloc[377]['genres'], results, song_df)"
   ]
  },
  {
   "cell_type": "code",
   "execution_count": null,
   "metadata": {},
   "outputs": [],
   "source": [
    "#dump(nn, 'nn-bins.joblib')"
   ]
  },
  {
   "cell_type": "markdown",
   "metadata": {},
   "source": [
    "#### Graveyard"
   ]
  },
  {
   "cell_type": "markdown",
   "metadata": {},
   "source": [
    "##### unused pipeline attempt"
   ]
  },
  {
   "cell_type": "code",
   "execution_count": null,
   "metadata": {
    "jupyter": {
     "source_hidden": true
    }
   },
   "outputs": [],
   "source": [
    "category_pipeline = make_pipeline(\n",
    "    OrdinalEncoder())\n",
    "\n",
    "numeric_pipeline = make_pipeline(\n",
    "    MinMaxScaler())\n",
    "\n",
    "processor = make_column_transformer(\n",
    "    (category_pipeline, cat_cols),\n",
    "    (numeric_pipeline, num_cols),\n",
    "    )\n",
    "\n",
    "nn_pipeline = make_pipeline(\n",
    "    processor,\n",
    "    NearestNeighbors(n_neighbors=10000,algorithm='kd_tree',n_jobs=-1))"
   ]
  }
 ],
 "metadata": {
  "kernelspec": {
   "display_name": "sklearn",
   "language": "python",
   "name": "sklearn"
  },
  "language_info": {
   "codemirror_mode": {
    "name": "ipython",
    "version": 3
   },
   "file_extension": ".py",
   "mimetype": "text/x-python",
   "name": "python",
   "nbconvert_exporter": "python",
   "pygments_lexer": "ipython3",
   "version": "3.8.3"
  }
 },
 "nbformat": 4,
 "nbformat_minor": 4
}
