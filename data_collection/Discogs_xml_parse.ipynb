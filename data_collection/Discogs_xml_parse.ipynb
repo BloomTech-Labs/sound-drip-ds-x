{
 "cells": [
  {
   "cell_type": "code",
   "execution_count": 44,
   "metadata": {},
   "outputs": [],
   "source": [
    "import xml.etree.ElementTree as ET\n",
    "import sys"
   ]
  },
  {
   "cell_type": "markdown",
   "metadata": {},
   "source": [
    "#### download from https://data.discogs.com/"
   ]
  },
  {
   "cell_type": "code",
   "execution_count": 49,
   "metadata": {},
   "outputs": [],
   "source": [
    "file_path = 'C:/Users/mjhar/Downloads/discogs_20200101_masters.xml'\n",
    "file_ = open(file_path, 'rb')"
   ]
  },
  {
   "cell_type": "markdown",
   "metadata": {},
   "source": [
    "#### Using iterparse for large files"
   ]
  },
  {
   "cell_type": "code",
   "execution_count": 50,
   "metadata": {},
   "outputs": [],
   "source": [
    "context = ET.iterparse(file_, events=('start', 'end'))\n",
    "context = iter(context)"
   ]
  },
  {
   "cell_type": "markdown",
   "metadata": {},
   "source": [
    "#### Sandboxing, learing how to interact with the file structure"
   ]
  },
  {
   "cell_type": "code",
   "execution_count": 51,
   "metadata": {},
   "outputs": [],
   "source": [
    "elems = []\n",
    "i=0\n",
    "albtrck = {}\n",
    "\n",
    "for event, ele in context:\n",
    "    \n",
    "    # manual catch for runaway iteration\n",
    "    if i>10000:\n",
    "        print('d')\n",
    "        break\n",
    "        \n",
    "    #indicates end of album info\n",
    "    elif event == 'end' and ele.tag == 'master':\n",
    "        i+=1\n",
    "        if i > 20:\n",
    "            break\n",
    "        else:\n",
    "            continue\n",
    "    \n",
    "    #indicates begining of album info \n",
    "    elif event == 'start' and ele.tag == 'master':\n",
    "        #print('this')\n",
    "        alb = ''\n",
    "        continue\n",
    "\n",
    "    #indicates artist name\n",
    "    elif event == 'start' and ele.tag == 'name':\n",
    "        artist = ele.text\n",
    "        if artist in albtrck.keys():\n",
    "            continue\n",
    "        else:\n",
    "            albtrck[artist] = {}\n",
    "    \n",
    "    #indicates album title\n",
    "    elif event == 'start' and ele.tag == 'title' and alb == '':\n",
    "        #print('here')\n",
    "        alb = ele.text\n",
    "        albtrck[artist][alb] = []\n",
    "        continue\n",
    "    \n",
    "    #indicates track title\n",
    "    elif event == 'start' and ele.tag == 'title' and len(alb) > 0:\n",
    "        # use string partition to dipose of artist inclusion EG : \"Samuel L - Danses D'Afrique\" -> \"Danses D'Afrique\"\n",
    "        kw = ' - '\n",
    "        before_kw, kw, after_kw = ele.text.partition(kw)\n",
    "        albtrck[artist][alb].append(after_kw)\n",
    "        \n",
    "        \n"
   ]
  },
  {
   "cell_type": "code",
   "execution_count": 52,
   "metadata": {},
   "outputs": [
    {
     "data": {
      "text/plain": [
       "{'Samuel L Session': {'New Soil': ['Velvet',\n",
       "   \"Danses D'Afrique\",\n",
       "   \"Body N' Soul\",\n",
       "   'Into The Groove',\n",
       "   'Soul Syndrome',\n",
       "   'Lush',\n",
       "   'Velvet ( Direct Me )'],\n",
       "  'Psyche EP': ['Arrival', 'Psyche Part 1', 'Psyche Part 2']},\n",
       " 'Peshay': {'Renegades Of Funk': []},\n",
       " 'Vince Watson': {'Tuff Trax #1 - Basic Functions': ['Basic Functions (Vince Watson)'],\n",
       "  'The eMotion Sequence': ['The eMotion Sequence',\n",
       "   'Believer',\n",
       "   'Ioa (Live Version)',\n",
       "   '',\n",
       "   'Long Way From Home',\n",
       "   'MidiSensual',\n",
       "   'Solitude']},\n",
       " 'Weekender': {'Kneel Before Zod': [' Sunday Session',\n",
       "   'Theme From Weekender Pt. 1 / Pt. 2',\n",
       "   'Lost In The Loft',\n",
       "   'On The One',\n",
       "   'Hugo A-Go-Go (2000) - Simon Bradshaw - Nu Jazz - 320 kbps',\n",
       "   'Sticky Telescope',\n",
       "   ' Spirit In Your Soul (Album Mix)',\n",
       "   'Channel Check'],\n",
       "  'Sticky Telescope': ['',\n",
       "   '',\n",
       "   '',\n",
       "   'Sticky Telescope (Dub)',\n",
       "   ' Sticky Telescope',\n",
       "   'Sticky Telescope'],\n",
       "  'Sunday Session (Remixes)': [' Sunday Session (Vox Dub)',\n",
       "   ' Sunday Session',\n",
       "   '',\n",
       "   'Sunday Sesssion'],\n",
       "  'Lost In The Loft': [' Lost In The Loft', 'Sunday Sessions']},\n",
       " 'Various': {'Soul In Your Spacesuit [Alma En Su Traje Del Espacio]': ['Gumbo',\n",
       "   '',\n",
       "   'Nice and Mellow',\n",
       "   'Spirit In Your Soul Live - Vinyl',\n",
       "   ' Sunday Session',\n",
       "   'Gumbo - 126/Bpm Live - Vinyl',\n",
       "   ' Red Herrings',\n",
       "   'Busted Wagon - 123/Bpm - Vinyl',\n",
       "   'Sunday Session 126.6/Bpm - Vinyl',\n",
       "   \"Here's To You 118/Bpm - Vinyl\",\n",
       "   'Skipped A Beat 124/Bpm - Vinyl',\n",
       "   'Red Herring 131/Bpm - Vinyl',\n",
       "   '',\n",
       "   'Buck Fast 121/Bpm - Vinyl']},\n",
       " 'G-Pal': {'Life': ['Life',\n",
       "   '',\n",
       "   'aegan sea',\n",
       "   'Black Lights',\n",
       "   'After Life Radio Edit)',\n",
       "   'Play (Life EP, year2000)',\n",
       "   'More Than Beautiful',\n",
       "   'Without That (Original Mix)',\n",
       "   'Ioannis & Maria']},\n",
       " 'MD': {'Appelsap': ['untitled 3',\n",
       "   'untitled 7',\n",
       "   'untitled 11',\n",
       "   'ilkae Packing Slip',\n",
       "   'Brothomstates Remix',\n",
       "   '',\n",
       "   'Untitled 6 (Crankshaft Upswing Remix)',\n",
       "   'Untitled 8',\n",
       "   'untitled 6',\n",
       "   'untitled 9']},\n",
       " 'Lackluster': {'Container': ['Starcell U.K.',\n",
       "   'Catch22',\n",
       "   \"Thor's Magic Bathtub\",\n",
       "   'Pillow',\n",
       "   'So Short',\n",
       "   'Trullcakes',\n",
       "   'Grind',\n",
       "   'Bothersome Mother Mix',\n",
       "   'The Weakend State',\n",
       "   'Clinique',\n",
       "   'Krhm',\n",
       "   'Me Me Me Me Me Me',\n",
       "   'Dooba',\n",
       "   'Cull Streak',\n",
       "   '20333'],\n",
       "  'Wrapping': ['In Passing',\n",
       "   'Gid',\n",
       "   'Close Enough',\n",
       "   'KCL1',\n",
       "   'Too Loose',\n",
       "   'Flitter',\n",
       "   'ST-00:',\n",
       "   'Tall#5',\n",
       "   'Kvaak',\n",
       "   'Swirl',\n",
       "   'Ging Gage',\n",
       "   'Wrist Control',\n",
       "   'SHK2X',\n",
       "   'Hands Hands']},\n",
       " 'Pub': {'Sekatuo Ton': []},\n",
       " 'David Morley': {'Stardancer EP': ['Stardancer',\n",
       "   'Buchla Baby',\n",
       "   'Tonus',\n",
       "   'Frozen']},\n",
       " 'Amon Tobin': {'Piranha Breaks E.P.': ['Piranha Breaks', '', '', '', '']},\n",
       " 'The Third Eye Foundation': {'Semtex': ['Sleep',\n",
       "   'Still-Life',\n",
       "   'Next of Kin',\n",
       "   'Next of Kin',\n",
       "   'Dreams on His Fingers']},\n",
       " 'DJ Food': {'The Quadraplex EP': ['', '', '', '', 'Looking Glass', '']},\n",
       " 'Philip Glass': {'Powaqqatsi': ['Powaqqatsi - 01. Serra Pelada',\n",
       "   'Powaqqatsi - 02. The Title',\n",
       "   'Powaqqatsi - 03. Anthem - Part 1',\n",
       "   'Powaqqatsi - 04. That Place',\n",
       "   '',\n",
       "   'Powaqqatsi - 06. Mosque and Temple',\n",
       "   'Powaqqatsi - 07. Anthem - Part 3',\n",
       "   'Powaqqatsi - 08. Train to Sao Paulo',\n",
       "   'Powaqqatsi - 09. Video Dream',\n",
       "   '',\n",
       "   '',\n",
       "   'Powaqqatsi - 12. New Cities in Ancient Lands, India',\n",
       "   'Powaqqatsi - 13. The Unutterable',\n",
       "   'Powaqqatsi - 14. CAUGHT!',\n",
       "   'Powaqqatsi - 15. Mr. Suso #1',\n",
       "   'Powaqqatsi - 16. From Egypt',\n",
       "   'Powaqqatsi - 17. Mr Suso #2 with Reflection',\n",
       "   'Powaqqatsi - 18. Powaqqatsi']},\n",
       " 'B12': {'Last Days Of Silence': [\"Don't Be Afraid (Original Mix) (2008)\",\n",
       "   'Slope',\n",
       "   'Magnetic Fields',\n",
       "   '',\n",
       "   \"Hall of Mirrors (Digitonal's String in Space Remix)\",\n",
       "   '32 Lineup',\n",
       "   'Omni Therapy',\n",
       "   'Zoo Zoo (Live 2006)',\n",
       "   'Particle 3 (Live 2007)',\n",
       "   'Twisted Muva (Live 2007)']}}"
      ]
     },
     "execution_count": 52,
     "metadata": {},
     "output_type": "execute_result"
    }
   ],
   "source": [
    "albtrck"
   ]
  },
  {
   "cell_type": "code",
   "execution_count": 6,
   "metadata": {},
   "outputs": [],
   "source": [
    "# 250,000,000 bytes to .25 gb"
   ]
  },
  {
   "cell_type": "markdown",
   "metadata": {},
   "source": [
    "#### viewing fil structure"
   ]
  },
  {
   "cell_type": "code",
   "execution_count": 53,
   "metadata": {
    "collapsed": true,
    "jupyter": {
     "outputs_hidden": true
    }
   },
   "outputs": [
    {
     "name": "stdout",
     "output_type": "stream",
     "text": [
      "<masters>\n",
      "\n",
      "<master id=\"18500\"><main_release>155102</main_release><images><image height=\"588\" type=\"primary\" uri=\"\" uri150=\"\" width=\"600\"/></images><artists><artist><id>212070</id><name>Samuel L Session</name><anv>Samuel L</anv><join></join><role></role><tracks></tracks></artist></artists><genres><genre>Electronic</genre></genres><styles><style>Techno</style></styles><year>2001</year><title>New Soil</title><data_quality>Correct</data_quality><videos><video duration=\"489\" embed=\"true\" src=\"https://www.youtube.com/watch?v=f05Ai921itM\"><title>Samuel L - Velvet</title><description>Samuel L - Velvet</description></video><video duration=\"348\" embed=\"true\" src=\"https://www.youtube.com/watch?v=v23rSPG_StA\"><title>Samuel L - Danses D'Afrique</title><description>Samuel L - Danses D'Afrique</description></video><video duration=\"288\" embed=\"true\" src=\"https://www.youtube.com/watch?v=tHo82ha6p40\"><title>Samuel L - Body N' Soul</title><description>Samuel L - Body N' Soul</description></video><video duration=\"331\" embed=\"true\" src=\"https://www.youtube.com/watch?v=KDcqzHca5dk\"><title>Samuel L - Into The Groove</title><description>Samuel L - Into The Groove</description></video><video duration=\"334\" embed=\"true\" src=\"https://www.youtube.com/watch?v=3DIYjJFl8Dk\"><title>Samuel L - Soul Syndrome</title><description>Samuel L - Soul Syndrome</description></video><video duration=\"325\" embed=\"true\" src=\"https://www.youtube.com/watch?v=_o8yZMPqvNg\"><title>Samuel L - Lush</title><description>Samuel L - Lush</description></video><video duration=\"346\" embed=\"true\" src=\"https://www.youtube.com/watch?v=JPwwJSc_-30\"><title>Samuel L - Velvet ( Direct Me )</title><description>Samuel L - Velvet ( Direct Me )</description></video></videos></master>\n",
      "\n",
      "<master id=\"18512\"><main_release>33699</main_release><images><image height=\"150\" type=\"primary\" uri=\"\" uri150=\"\" width=\"150\"/><image height=\"592\" type=\"secondary\" uri=\"\" uri150=\"\" width=\"600\"/><image height=\"592\" type=\"secondary\" uri=\"\" uri150=\"\" width=\"600\"/></images><artists><artist><id>212070</id><name>Samuel L Session</name><anv></anv><join></join><role></role><tracks></tracks></artist></artists><genres><genre>Electronic</genre></genres><styles><style>Tribal</style><style>Techno</style></styles><year>2002</year><title>Psyche EP</title><data_quality>Correct</data_quality><videos><video duration=\"118\" embed=\"true\" src=\"https://www.youtube.com/watch?v=QYf4j0Pd2FU\"><title>Samuel L. Session - Arrival</title><description>Samuel L. Session - Arrival</description></video><video duration=\"376\" embed=\"true\" src=\"https://www.youtube.com/watch?v=c_AfLqTdncI\"><title>Samuel L. Session - Psyche Part 1</title><description>Samuel L. Session - Psyche Part 1</description></video><video duration=\"419\" embed=\"true\" src=\"https://www.youtube.com/watch?v=0nxvR8Zl9wY\"><title>Samuel L. Session - Psyche Part 2</title><description>Samuel L. Session - Psyche Part 2</description></video></videos></master>\n",
      "\n",
      "<master id=\"27800\"><main_release>1601455</main_release><images><image height=\"607\" type=\"primary\" uri=\"\" uri150=\"\" width=\"600\"/><image height=\"595\" type=\"secondary\" uri=\"\" uri150=\"\" width=\"600\"/><image height=\"596\" type=\"secondary\" uri=\"\" uri150=\"\" width=\"600\"/><image height=\"607\" type=\"secondary\" uri=\"\" uri150=\"\" width=\"600\"/><image height=\"467\" type=\"secondary\" uri=\"\" uri150=\"\" width=\"600\"/><image height=\"460\" type=\"secondary\" uri=\"\" uri150=\"\" width=\"600\"/></images><artists><artist><id>278</id><name>Peshay</name><anv></anv><join></join><role></role><tracks></tracks></artist></artists><genres><genre>Electronic</genre></genres><styles><style>Drum n Bass</style></styles><year>2001</year><title>Renegades Of Funk</title><data_quality>Correct</data_quality></master>\n",
      "\n",
      "<master id=\"57416\"><main_release>1678659</main_release><images><image height=\"600\" type=\"primary\" uri=\"\" uri150=\"\" width=\"593\"/><image height=\"600\" type=\"secondary\" uri=\"\" uri150=\"\" width=\"591\"/></images><artists><artist><id>3225</id><name>Vince Watson</name><anv></anv><join></join><role></role><tracks></tracks></artist></artists><genres><genre>Electronic</genre></genres><styles><style>Techno</style></styles><year>1996</year><title>Tuff Trax #1 - Basic Functions</title><data_quality>Correct</data_quality><videos><video duration=\"385\" embed=\"true\" src=\"https://www.youtube.com/watch?v=9du5Ibw8wMM\"><title>Tuff Trax #1 - Basic Functions (Vince Watson)</title><description>Tuff Trax #1 - Basic Functions (Vince Watson)</description></video></videos></master>\n",
      "\n",
      "<master id=\"57427\"><main_release>828886</main_release><images><image height=\"600\" type=\"primary\" uri=\"\" uri150=\"\" width=\"600\"/><image height=\"514\" type=\"secondary\" uri=\"\" uri150=\"\" width=\"600\"/></images><artists><artist><id>3225</id><name>Vince Watson</name><anv></anv><join></join><role></role><tracks></tracks></artist></artists><genres><genre>Electronic</genre></genres><styles><style>Techno</style><style>Downtempo</style></styles><year>2006</year><title>The eMotion Sequence</title><data_quality>Correct</data_quality><videos><video duration=\"403\" embed=\"true\" src=\"https://www.youtube.com/watch?v=YnqddWVeV7g\"><title>Vince Watson - The eMotion Sequence</title><description>Vince Watson - The eMotion Sequence</description></video><video duration=\"381\" embed=\"true\" src=\"https://www.youtube.com/watch?v=owr-QVV8Ui4\"><title>Vince Watson - Believer</title><description>Vince Watson - Believer</description></video><video duration=\"426\" embed=\"true\" src=\"https://www.youtube.com/watch?v=r2qfABCApVE\"><title>Vince Watson - Ioa (Live Version)</title><description>Vince Watson - Ioa (Live Version)</description></video><video duration=\"521\" embed=\"true\" src=\"https://www.youtube.com/watch?v=UPKrsHv2Pgs\"><title>Vince Watson Floating Chamber video by Taho</title><description>Vince Watson Floating Chamber video by Taho</description></video><video duration=\"324\" embed=\"true\" src=\"https://www.youtube.com/watch?v=8fMnwqWIyS0\"><title>Vince Watson - Long Way From Home</title><description>Vince Watson - Long Way From Home</description></video><video duration=\"507\" embed=\"true\" src=\"https://www.youtube.com/watch?v=IMqoS0hDfis\"><title>Vince Watson - MidiSensual</title><description>Vince Watson - MidiSensual</description></video><video duration=\"268\" embed=\"true\" src=\"https://www.youtube.com/watch?v=yC31hr8DyrM\"><title>Vince Watson - Solitude</title><description>Vince Watson - Solitude</description></video></videos></master>\n",
      "\n",
      "<master id=\"102848\"><main_release>34688</main_release><images><image height=\"600\" type=\"primary\" uri=\"\" uri150=\"\" width=\"596\"/><image height=\"600\" type=\"secondary\" uri=\"\" uri150=\"\" width=\"600\"/></images><artists><artist><id>639</id><name>Weekender</name><anv></anv><join></join><role></role><tracks></tracks></artist></artists><genres><genre>Electronic</genre></genres><styles><style>House</style><style>Deep House</style></styles><year>2000</year><title>Kneel Before Zod</title><data_quality>Correct</data_quality><videos><video duration=\"469\" embed=\"true\" src=\"https://www.youtube.com/watch?v=oJjEUvxfHCw\"><title>Weekender  -  Sunday Session</title><description>Weekender  -  Sunday Session</description></video><video duration=\"650\" embed=\"true\" src=\"https://www.youtube.com/watch?v=Fr6N4kVaNmc\"><title>Weekender - Theme From Weekender Pt. 1 / Pt. 2</title><description>Weekender - Theme From Weekender Pt. 1 / Pt. 2</description></video><video duration=\"429\" embed=\"true\" src=\"https://www.youtube.com/watch?v=-HfL0mjQyjw\"><title>Weekender - Lost In The Loft</title><description>Weekender - Lost In The Loft</description></video><video duration=\"441\" embed=\"true\" src=\"https://www.youtube.com/watch?v=NKeJdS4NXqE\"><title>Weekender - On The One</title><description>Weekender - On The One</description></video><video duration=\"429\" embed=\"true\" src=\"https://www.youtube.com/watch?v=cXndW-rUF-s\"><title>WEEKENDER - Hugo A-Go-Go (2000) - Simon Bradshaw - Nu Jazz - 320 kbps</title><description>WEEKENDER - Hugo A-Go-Go (2000) - Simon Bradshaw - Nu Jazz - 320 kbps</description></video><video duration=\"391\" embed=\"true\" src=\"https://www.youtube.com/watch?v=D7TlqShB7ms\"><title>Weekender - Sticky Telescope</title><description>Weekender - Sticky Telescope</description></video><video duration=\"485\" embed=\"true\" src=\"https://www.youtube.com/watch?v=LF2fBBbTlbE\"><title>Weekender  -  Spirit In Your Soul (Album Mix)</title><description>Weekender  -  Spirit In Your Soul (Album Mix)</description></video><video duration=\"432\" embed=\"true\" src=\"https://www.youtube.com/watch?v=G6g-K2Ebb8M\"><title>Weekender - Channel Check</title><description>Weekender - Channel Check</description></video></videos></master>\n",
      "\n",
      "<master id=\"102849\"><main_release>23585</main_release><images><image height=\"395\" type=\"primary\" uri=\"\" uri150=\"\" width=\"397\"/><image height=\"600\" type=\"secondary\" uri=\"\" uri150=\"\" width=\"600\"/><image height=\"600\" type=\"secondary\" uri=\"\" uri150=\"\" width=\"600\"/></images><artists><artist><id>639</id><name>Weekender</name><anv></anv><join></join><role></role><tracks></tracks></artist></artists><genres><genre>Electronic</genre></genres><styles><style>Deep House</style></styles><year>2001</year><title>Sticky Telescope</title><data_quality>Correct</data_quality><videos><video duration=\"475\" embed=\"true\" src=\"https://www.youtube.com/watch?v=6B8Vp0W7VM0\"><title>Sticky Dub</title><description>Sticky Dub</description></video><video duration=\"387\" embed=\"true\" src=\"https://www.youtube.com/watch?v=WXfm433wDKo\"><title>Sticky Telescope</title><description>Sticky Telescope</description></video><video duration=\"389\" embed=\"true\" src=\"https://www.youtube.com/watch?v=kCQS1G8Z4l0\"><title>Sticky Edit</title><description>Sticky Edit</description></video><video duration=\"474\" embed=\"true\" src=\"https://www.youtube.com/watch?v=cNQ5tfFd660\"><title>Weekender - Sticky Telescope (Dub)</title><description>Weekender - Sticky Telescope (Dub)</description></video><video duration=\"387\" embed=\"true\" src=\"https://www.youtube.com/watch?v=xBvy8idX_pA\"><title>Weekender  -  Sticky Telescope</title><description>Weekender  -  Sticky Telescope</description></video><video duration=\"391\" embed=\"true\" src=\"https://www.youtube.com/watch?v=D7TlqShB7ms\"><title>Weekender - Sticky Telescope</title><description>Weekender - Sticky Telescope</description></video></videos></master>\n",
      "\n",
      "<master id=\"102850\"><main_release>16154</main_release><images><image height=\"594\" type=\"secondary\" uri=\"\" uri150=\"\" width=\"600\"/><image height=\"596\" type=\"secondary\" uri=\"\" uri150=\"\" width=\"600\"/></images><artists><artist><id>639</id><name>Weekender</name><anv></anv><join></join><role></role><tracks></tracks></artist></artists><genres><genre>Electronic</genre></genres><styles><style>Deep House</style><style>Tech House</style></styles><year>2001</year><title>Sunday Session (Remixes)</title><data_quality>Correct</data_quality><videos><video duration=\"519\" embed=\"true\" src=\"https://www.youtube.com/watch?v=Nu3wi9B80QU\"><title>Weekender feat. Zoe Johnston  -  Sunday Session (Vox Dub)</title><description>Weekender feat. Zoe Johnston  -  Sunday Session (Vox Dub)</description></video><video duration=\"469\" embed=\"true\" src=\"https://www.youtube.com/watch?v=oJjEUvxfHCw\"><title>Weekender  -  Sunday Session</title><description>Weekender  -  Sunday Session</description></video><video duration=\"511\" embed=\"true\" src=\"https://www.youtube.com/watch?v=2i2sI5Vv66U\"><title>Weekender-Sunday Session (Vocal Dub B1)</title><description>Weekender-Sunday Session (Vocal Dub B1)</description></video><video duration=\"494\" embed=\"true\" src=\"https://www.youtube.com/watch?v=fG6l4a-uC0g\"><title>The Room8 Record Bag: Weekender - Sunday Sesssion</title><description>The Room8 Record Bag: Weekender - Sunday Sesssion</description></video></videos></master>\n",
      "\n",
      "<master id=\"102851\"><main_release>56623</main_release><images><image height=\"421\" type=\"primary\" uri=\"\" uri150=\"\" width=\"421\"/><image height=\"602\" type=\"secondary\" uri=\"\" uri150=\"\" width=\"600\"/><image height=\"600\" type=\"secondary\" uri=\"\" uri150=\"\" width=\"600\"/></images><artists><artist><id>639</id><name>Weekender</name><anv></anv><join></join><role></role><tracks></tracks></artist></artists><genres><genre>Electronic</genre></genres><styles><style>House</style></styles><year>1998</year><title>Lost In The Loft</title><data_quality>Correct</data_quality><videos><video duration=\"428\" embed=\"true\" src=\"https://www.youtube.com/watch?v=uX1dQ4W4kwk\"><title>Weekender  -  Lost In The Loft</title><description>Weekender  -  Lost In The Loft</description></video><video duration=\"359\" embed=\"true\" src=\"https://www.youtube.com/watch?v=VO_IK-PLryk\"><title>Weekender - Sunday Sessions</title><description>Weekender - Sunday Sessions</description></video></videos></master>\n",
      "\n",
      "<master id=\"110442\"><main_release>12849</main_release><images><image height=\"500\" type=\"primary\" uri=\"\" uri150=\"\" width=\"500\"/></images><artists><artist><id>194</id><name>Various</name><anv></anv><join></join><role></role><tracks></tracks></artist></artists><genres><genre>Electronic</genre></genres><styles><style>Deep House</style></styles><year>1999</year><title>Soul In Your Spacesuit [Alma En Su Traje Del Espacio]</title><data_quality>Correct</data_quality><videos><video duration=\"431\" embed=\"true\" src=\"https://www.youtube.com/watch?v=klBQsnwBVMo\"><title>Klarky Cat - Gumbo</title><description>Klarky Cat - Gumbo</description></video><video duration=\"476\" embed=\"true\" src=\"https://www.youtube.com/watch?v=p7YX1tq0O_Q\"><title>Weekender ~ Spirit In Your Soul 122/3bpm</title><description>Weekender ~ Spirit In Your Soul 122/3bpm</description></video><video duration=\"441\" embed=\"true\" src=\"https://www.youtube.com/watch?v=WS0OKg8SgJc\"><title>Just a groove - Nice and Mellow</title><description>Just a groove - Nice and Mellow</description></video><video duration=\"496\" embed=\"true\" src=\"https://www.youtube.com/watch?v=Jb2DQz8Xj3U\"><title>Weekender - Spirit In Your Soul Live - Vinyl</title><description>Weekender - Spirit In Your Soul Live - Vinyl</description></video><video duration=\"469\" embed=\"true\" src=\"https://www.youtube.com/watch?v=oJjEUvxfHCw\"><title>Weekender  -  Sunday Session</title><description>Weekender  -  Sunday Session</description></video><video duration=\"442\" embed=\"true\" src=\"https://www.youtube.com/watch?v=yn1yqme_1L4\"><title>Klarky Cat - Gumbo - 126/Bpm Live - Vinyl</title><description>Klarky Cat - Gumbo - 126/Bpm Live - Vinyl</description></video><video duration=\"536\" embed=\"true\" src=\"https://www.youtube.com/watch?v=jeIy6hF-Lfk\"><title>Attaboy  -  Red Herrings</title><description>Attaboy  -  Red Herrings</description></video><video duration=\"517\" embed=\"true\" src=\"https://www.youtube.com/watch?v=8qsMgd00ecc\"><title>Attaboy - Busted Wagon - 123/Bpm - Vinyl</title><description>Attaboy - Busted Wagon - 123/Bpm - Vinyl</description></video><video duration=\"456\" embed=\"true\" src=\"https://www.youtube.com/watch?v=lWYG1o4tcl4\"><title>Weekender - Sunday Session 126.6/Bpm - Vinyl</title><description>Weekender - Sunday Session 126.6/Bpm - Vinyl</description></video><video duration=\"512\" embed=\"true\" src=\"https://www.youtube.com/watch?v=ooCbTKsRQXs\"><title>Rubato - Here's To You 118/Bpm - Vinyl</title><description>Rubato - Here's To You 118/Bpm - Vinyl</description></video><video duration=\"493\" embed=\"true\" src=\"https://www.youtube.com/watch?v=4fFPWmsYvb4\"><title>Patt Barry - Skipped A Beat 124/Bpm - Vinyl</title><description>Patt Barry - Skipped A Beat 124/Bpm - Vinyl</description></video><video duration=\"524\" embed=\"true\" src=\"https://www.youtube.com/watch?v=KZ2DcVz0RRw\"><title>Attaboy - Red Herring 131/Bpm - Vinyl</title><description>Attaboy - Red Herring 131/Bpm - Vinyl</description></video><video duration=\"264\" embed=\"true\" src=\"https://www.youtube.com/watch?v=TQTStAbH6NQ\"><title>Attaboy ~ Buckfast. Bpm [ ;</title><description>Attaboy ~ Buckfast. Bpm [ ;</description></video><video duration=\"208\" embed=\"true\" src=\"https://www.youtube.com/watch?v=owzb9gxYm8w\"><title>Attaboy - Buck Fast 121/Bpm - Vinyl</title><description>Attaboy - Buck Fast 121/Bpm - Vinyl</description></video></videos></master>\n",
      "\n",
      "<master id=\"144737\"><main_release>2194</main_release><images><image height=\"593\" type=\"secondary\" uri=\"\" uri150=\"\" width=\"600\"/><image height=\"468\" type=\"secondary\" uri=\"\" uri150=\"\" width=\"600\"/></images><artists><artist><id>2637</id><name>G-Pal</name><anv></anv><join></join><role></role><tracks></tracks></artist></artists><genres><genre>Electronic</genre></genres><styles><style>Tech House</style></styles><year>2000</year><title>Life</title><data_quality>Correct</data_quality><videos><video duration=\"530\" embed=\"true\" src=\"https://www.youtube.com/watch?v=kPqFFIZei8A\"><title>G-Pal - Life</title><description>G-Pal - Life</description></video><video duration=\"430\" embed=\"true\" src=\"https://www.youtube.com/watch?v=2pJKJkGpEpY\"><title>After Life (Original Mix)</title><description>After Life (Original Mix)</description></video><video duration=\"387\" embed=\"true\" src=\"https://www.youtube.com/watch?v=yiSFqKKR-aw\"><title>G-pal - aegan sea</title><description>G-pal - aegan sea</description></video><video duration=\"464\" embed=\"true\" src=\"https://www.youtube.com/watch?v=qYwd1vrP0Qc\"><title>G-Pal - Black Lights</title><description>G-Pal - Black Lights</description></video><video duration=\"266\" embed=\"true\" src=\"https://www.youtube.com/watch?v=b9iIopDo40E\"><title>GPal - After Life Radio Edit)</title><description>GPal - After Life Radio Edit)</description></video><video duration=\"380\" embed=\"true\" src=\"https://www.youtube.com/watch?v=D8glMD6fBb0\"><title>G-Pal - Play (Life EP, year2000)</title><description>G-Pal - Play (Life EP, year2000)</description></video><video duration=\"363\" embed=\"true\" src=\"https://www.youtube.com/watch?v=WemTMYO_Rio\"><title>G-Pal - More Than Beautiful</title><description>G-Pal - More Than Beautiful</description></video><video duration=\"432\" embed=\"true\" src=\"https://www.youtube.com/watch?v=_6wFStTntHA\"><title>Deep Music* G-Pal - Without That (Original Mix)</title><description>Deep Music* G-Pal - Without That (Original Mix)</description></video><video duration=\"423\" embed=\"true\" src=\"https://www.youtube.com/watch?v=2lcxS-2uols\"><title>Deep Music* G-Pal - Ioannis &amp; Maria</title><description>Deep Music* G-Pal - Ioannis &amp; Maria</description></video></videos></master>\n",
      "\n",
      "<master id=\"12090\"><main_release>1945</main_release><images><image height=\"600\" type=\"primary\" uri=\"\" uri150=\"\" width=\"599\"/><image height=\"472\" type=\"secondary\" uri=\"\" uri150=\"\" width=\"600\"/><image height=\"600\" type=\"secondary\" uri=\"\" uri150=\"\" width=\"594\"/><image height=\"600\" type=\"secondary\" uri=\"\" uri150=\"\" width=\"594\"/><image height=\"469\" type=\"secondary\" uri=\"\" uri150=\"\" width=\"600\"/></images><artists><artist><id>2440</id><name>MD</name><anv></anv><join></join><role></role><tracks></tracks></artist></artists><genres><genre>Electronic</genre></genres><styles><style>IDM</style></styles><year>2000</year><title>Appelsap</title><data_quality>Correct</data_quality><videos><video duration=\"211\" embed=\"true\" src=\"https://www.youtube.com/watch?v=OnN8pldG_MM\"><title>MD - untitled 3</title><description>MD - untitled 3</description></video><video duration=\"182\" embed=\"true\" src=\"https://www.youtube.com/watch?v=00zL2FCGDPU\"><title>MD - untitled 7</title><description>MD - untitled 7</description></video><video duration=\"246\" embed=\"true\" src=\"https://www.youtube.com/watch?v=7a5R4waZdaY\"><title>MD - untitled 11</title><description>MD - untitled 11</description></video><video duration=\"242\" embed=\"true\" src=\"https://www.youtube.com/watch?v=upJo972UHDg\"><title>MD - ilkae Packing Slip</title><description>MD - ilkae Packing Slip</description></video><video duration=\"362\" embed=\"true\" src=\"https://www.youtube.com/watch?v=Gq5uBEsAcFk\"><title>MD - Brothomstates Remix</title><description>MD - Brothomstates Remix</description></video><video duration=\"299\" embed=\"true\" src=\"https://www.youtube.com/watch?v=Bta4gDrfdqg\"><title>Thug's Bicycle Repair (remix of MD track)</title><description>Thug's Bicycle Repair (remix of MD track)</description></video><video duration=\"346\" embed=\"true\" src=\"https://www.youtube.com/watch?v=om3zD10HT28\"><title>MD - Untitled 6 (Crankshaft Upswing Remix)</title><description>MD - Untitled 6 (Crankshaft Upswing Remix)</description></video><video duration=\"255\" embed=\"true\" src=\"https://www.youtube.com/watch?v=aqaMfJPHRGU\"><title>MD - Untitled 8</title><description>MD - Untitled 8</description></video><video duration=\"203\" embed=\"true\" src=\"https://www.youtube.com/watch?v=Jep7mWWAJh8\"><title>MD - untitled 6</title><description>MD - untitled 6</description></video><video duration=\"164\" embed=\"true\" src=\"https://www.youtube.com/watch?v=1Mbm1KVxcig\"><title>MD - untitled 9</title><description>MD - untitled 9</description></video></videos></master>\n",
      "\n",
      "<master id=\"12218\"><main_release>2662</main_release><images><image height=\"594\" type=\"primary\" uri=\"\" uri150=\"\" width=\"600\"/><image height=\"596\" type=\"secondary\" uri=\"\" uri150=\"\" width=\"600\"/><image height=\"469\" type=\"secondary\" uri=\"\" uri150=\"\" width=\"600\"/><image height=\"593\" type=\"secondary\" uri=\"\" uri150=\"\" width=\"600\"/><image height=\"594\" type=\"secondary\" uri=\"\" uri150=\"\" width=\"600\"/><image height=\"469\" type=\"secondary\" uri=\"\" uri150=\"\" width=\"600\"/><image height=\"600\" type=\"secondary\" uri=\"\" uri150=\"\" width=\"595\"/></images><artists><artist><id>374</id><name>Lackluster</name><anv></anv><join></join><role></role><tracks></tracks></artist></artists><genres><genre>Electronic</genre></genres><styles><style>Leftfield</style><style>Abstract</style><style>IDM</style><style>Downtempo</style></styles><year>2000</year><title>Container</title><data_quality>Correct</data_quality><videos><video duration=\"350\" embed=\"true\" src=\"https://www.youtube.com/watch?v=OOyx63I6B3s\"><title>Lackluster - Starcell U.K.</title><description>Lackluster - Starcell U.K.</description></video><video duration=\"259\" embed=\"true\" src=\"https://www.youtube.com/watch?v=vRNai_j0lUA\"><title>Lackluster - Catch22</title><description>Lackluster - Catch22</description></video><video duration=\"242\" embed=\"true\" src=\"https://www.youtube.com/watch?v=khyiBp2a3Tw\"><title>Lackluster - Thor's Magic Bathtub</title><description>Lackluster - Thor's Magic Bathtub</description></video><video duration=\"362\" embed=\"true\" src=\"https://www.youtube.com/watch?v=vQUJgfgDPqw\"><title>Lackluster - Pillow</title><description>Lackluster - Pillow</description></video><video duration=\"199\" embed=\"true\" src=\"https://www.youtube.com/watch?v=ff2Hr9CU2nA\"><title>Lackluster - So Short</title><description>Lackluster - So Short</description></video><video duration=\"333\" embed=\"true\" src=\"https://www.youtube.com/watch?v=d0d-RYdZsic\"><title>Lackluster - Trullcakes</title><description>Lackluster - Trullcakes</description></video><video duration=\"243\" embed=\"true\" src=\"https://www.youtube.com/watch?v=aA1I_2V13NE\"><title>Lackluster - Grind</title><description>Lackluster - Grind</description></video><video duration=\"348\" embed=\"true\" src=\"https://www.youtube.com/watch?v=3tHOPc1i9Kk\"><title>Lackluster - Bothersome Mother Mix</title><description>Lackluster - Bothersome Mother Mix</description></video><video duration=\"265\" embed=\"true\" src=\"https://www.youtube.com/watch?v=f0_3wIcBB-s\"><title>Lackluster - The Weakend State</title><description>Lackluster - The Weakend State</description></video><video duration=\"183\" embed=\"true\" src=\"https://www.youtube.com/watch?v=9piEFt3_DTQ\"><title>Lackluster - Clinique</title><description>Lackluster - Clinique</description></video><video duration=\"273\" embed=\"true\" src=\"https://www.youtube.com/watch?v=jlPjgK8tJEY\"><title>Lackluster - Krhm</title><description>Lackluster - Krhm</description></video><video duration=\"312\" embed=\"true\" src=\"https://www.youtube.com/watch?v=2nQx2hSssLU\"><title>Lackluster - Me Me Me Me Me Me</title><description>Lackluster - Me Me Me Me Me Me</description></video><video duration=\"311\" embed=\"true\" src=\"https://www.youtube.com/watch?v=WOY6uppndbY\"><title>Lackluster - Dooba</title><description>Lackluster - Dooba</description></video><video duration=\"275\" embed=\"true\" src=\"https://www.youtube.com/watch?v=XxQKOCNDst4\"><title>Lackluster - Cull Streak</title><description>Lackluster - Cull Streak</description></video><video duration=\"307\" embed=\"true\" src=\"https://www.youtube.com/watch?v=-xw4t6V8SHs\"><title>Lackluster - 20333</title><description>Lackluster - 20333</description></video></videos></master>\n",
      "\n",
      "<master id=\"12225\"><main_release>85085</main_release><images><image height=\"584\" type=\"primary\" uri=\"\" uri150=\"\" width=\"600\"/><image height=\"456\" type=\"secondary\" uri=\"\" uri150=\"\" width=\"600\"/><image height=\"600\" type=\"secondary\" uri=\"\" uri150=\"\" width=\"600\"/><image height=\"297\" type=\"secondary\" uri=\"\" uri150=\"\" width=\"600\"/><image height=\"600\" type=\"secondary\" uri=\"\" uri150=\"\" width=\"560\"/><image height=\"600\" type=\"secondary\" uri=\"\" uri150=\"\" width=\"600\"/></images><artists><artist><id>374</id><name>Lackluster</name><anv></anv><join></join><role></role><tracks></tracks></artist></artists><genres><genre>Electronic</genre></genres><styles><style>Leftfield</style><style>IDM</style><style>Downtempo</style><style>Experimental</style><style>Ambient</style></styles><year>2002</year><title>Wrapping</title><data_quality>Correct</data_quality><videos><video duration=\"343\" embed=\"true\" src=\"https://www.youtube.com/watch?v=mj78o6gb2wo\"><title>Lackluster - In Passing</title><description>Lackluster - In Passing</description></video><video duration=\"210\" embed=\"true\" src=\"https://www.youtube.com/watch?v=9xgec2QDFbE\"><title>Lackluster - Gid</title><description>Lackluster - Gid</description></video><video duration=\"462\" embed=\"true\" src=\"https://www.youtube.com/watch?v=us7jDvkykYk\"><title>Lackluster - Close Enough</title><description>Lackluster - Close Enough</description></video><video duration=\"162\" embed=\"true\" src=\"https://www.youtube.com/watch?v=iqtNDGhU39I\"><title>Lackluster - KCL1</title><description>Lackluster - KCL1</description></video><video duration=\"432\" embed=\"true\" src=\"https://www.youtube.com/watch?v=t7kuvzx1amI\"><title>Lackluster - Too Loose</title><description>Lackluster - Too Loose</description></video><video duration=\"94\" embed=\"true\" src=\"https://www.youtube.com/watch?v=haNesZZnNUU\"><title>Lackluster - Flitter</title><description>Lackluster - Flitter</description></video><video duration=\"482\" embed=\"true\" src=\"https://www.youtube.com/watch?v=aRCmS-w3_gw\"><title>Lackluster - ST-00:</title><description>Lackluster - ST-00:</description></video><video duration=\"315\" embed=\"true\" src=\"https://www.youtube.com/watch?v=t5f1IrLc6kM\"><title>Lackluster - Tall#5</title><description>Lackluster - Tall#5</description></video><video duration=\"420\" embed=\"true\" src=\"https://www.youtube.com/watch?v=tqivS7XJXPY\"><title>Lackluster - Kvaak</title><description>Lackluster - Kvaak</description></video><video duration=\"56\" embed=\"true\" src=\"https://www.youtube.com/watch?v=fSjY3ag_jnA\"><title>Lackluster - Swirl</title><description>Lackluster - Swirl</description></video><video duration=\"458\" embed=\"true\" src=\"https://www.youtube.com/watch?v=m9tmeouaU-A\"><title>Lackluster - Ging Gage</title><description>Lackluster - Ging Gage</description></video><video duration=\"428\" embed=\"true\" src=\"https://www.youtube.com/watch?v=pZLYDDbsKTg\"><title>Lackluster - Wrist Control</title><description>Lackluster - Wrist Control</description></video><video duration=\"325\" embed=\"true\" src=\"https://www.youtube.com/watch?v=sZVJ-QtNka4\"><title>Lackluster - SHK2X</title><description>Lackluster - SHK2X</description></video><video duration=\"83\" embed=\"true\" src=\"https://www.youtube.com/watch?v=JQM-f8863DQ\"><title>Lackluster - Hands Hands</title><description>Lackluster - Hands Hands</description></video></videos></master>\n",
      "\n",
      "<master id=\"16501\"><main_release>897136</main_release><images><image height=\"591\" type=\"primary\" uri=\"\" uri150=\"\" width=\"600\"/><image height=\"600\" type=\"secondary\" uri=\"\" uri150=\"\" width=\"600\"/><image height=\"508\" type=\"secondary\" uri=\"\" uri150=\"\" width=\"600\"/><image height=\"600\" type=\"secondary\" uri=\"\" uri150=\"\" width=\"600\"/></images><artists><artist><id>20392</id><name>Pub</name><anv></anv><join></join><role></role><tracks></tracks></artist></artists><genres><genre>Electronic</genre></genres><styles><style>Abstract</style><style>Minimal</style><style>Ambient</style></styles><year>2007</year><title>Sekatuo Ton</title><data_quality>Correct</data_quality></master>\n",
      "\n",
      "<master id=\"19671\"><main_release>18489</main_release><images><image height=\"595\" type=\"primary\" uri=\"\" uri150=\"\" width=\"600\"/><image height=\"594\" type=\"secondary\" uri=\"\" uri150=\"\" width=\"600\"/></images><artists><artist><id>5783</id><name>David Morley</name><anv></anv><join></join><role></role><tracks></tracks></artist></artists><genres><genre>Electronic</genre></genres><styles><style>Ambient</style></styles><year>1996</year><title>Stardancer EP</title><data_quality>Correct</data_quality><videos><video duration=\"370\" embed=\"true\" src=\"https://www.youtube.com/watch?v=dJYXtuaF6Ag\"><title>David Morley - Stardancer</title><description>David Morley - Stardancer</description></video><video duration=\"455\" embed=\"true\" src=\"https://www.youtube.com/watch?v=xOtZSqDWaH4\"><title>David Morley - Buchla Baby</title><description>David Morley - Buchla Baby</description></video><video duration=\"483\" embed=\"true\" src=\"https://www.youtube.com/watch?v=DM0DGzzYKqw\"><title>David Morley - Tonus</title><description>David Morley - Tonus</description></video><video duration=\"472\" embed=\"true\" src=\"https://www.youtube.com/watch?v=IZuljaQezcs\"><title>David Morley - Frozen</title><description>David Morley - Frozen</description></video></videos></master>\n",
      "\n",
      "<master id=\"21257\"><main_release>2172</main_release><images><image height=\"600\" type=\"primary\" uri=\"\" uri150=\"\" width=\"600\"/><image height=\"600\" type=\"secondary\" uri=\"\" uri150=\"\" width=\"600\"/><image height=\"349\" type=\"secondary\" uri=\"\" uri150=\"\" width=\"445\"/><image height=\"348\" type=\"secondary\" uri=\"\" uri150=\"\" width=\"445\"/><image height=\"410\" type=\"secondary\" uri=\"\" uri150=\"\" width=\"412\"/><image height=\"391\" type=\"secondary\" uri=\"\" uri150=\"\" width=\"384\"/></images><artists><artist><id>322</id><name>Amon Tobin</name><anv></anv><join></join><role></role><tracks></tracks></artist></artists><genres><genre>Electronic</genre></genres><styles><style>Drum n Bass</style></styles><year>1997</year><title>Piranha Breaks E.P.</title><data_quality>Correct</data_quality><videos><video duration=\"345\" embed=\"true\" src=\"https://www.youtube.com/watch?v=-oiGvya7OqA\"><title>Amon Tobin - Piranha Breaks</title><description>Amon Tobin - Piranha Breaks</description></video><video duration=\"344\" embed=\"true\" src=\"https://www.youtube.com/watch?v=grQ3IlGqP9s\"><title>Amon Tobin ~ Piranha breaks</title><description>Amon Tobin ~ Piranha breaks</description></video><video duration=\"461\" embed=\"true\" src=\"https://www.youtube.com/watch?v=I7g2a1HOb4w\"><title>Amon Tobin ~Fast Eddie</title><description>Amon Tobin ~Fast Eddie</description></video><video duration=\"418\" embed=\"true\" src=\"https://www.youtube.com/watch?v=EmPZfmd7Sag\"><title>Amon Tobin ~ Sub Tropic</title><description>Amon Tobin ~ Sub Tropic</description></video><video duration=\"386\" embed=\"true\" src=\"https://www.youtube.com/watch?v=td1JhjH4TJc\"><title>Amon Tobin ~ Hot Pursuit</title><description>Amon Tobin ~ Hot Pursuit</description></video></videos></master>\n",
      "\n",
      "<master id=\"21593\"><main_release>831652</main_release><images><image height=\"600\" type=\"primary\" uri=\"\" uri150=\"\" width=\"599\"/><image height=\"470\" type=\"secondary\" uri=\"\" uri150=\"\" width=\"600\"/><image height=\"594\" type=\"secondary\" uri=\"\" uri150=\"\" width=\"600\"/><image height=\"597\" type=\"secondary\" uri=\"\" uri150=\"\" width=\"600\"/><image height=\"598\" type=\"secondary\" uri=\"\" uri150=\"\" width=\"600\"/><image height=\"470\" type=\"secondary\" uri=\"\" uri150=\"\" width=\"600\"/></images><artists><artist><id>212837</id><name>The Third Eye Foundation</name><anv></anv><join></join><role></role><tracks></tracks></artist></artists><genres><genre>Electronic</genre></genres><styles><style>Illbient</style><style>Noise</style><style>Drum n Bass</style></styles><year>1996</year><title>Semtex</title><data_quality>Correct</data_quality><videos><video duration=\"421\" embed=\"true\" src=\"https://www.youtube.com/watch?v=90rIyiuQ5B0\"><title>Third Eye Foundation - Sleep</title><description>Third Eye Foundation - Sleep</description></video><video duration=\"689\" embed=\"true\" src=\"https://www.youtube.com/watch?v=BrPbY1lqrGo\"><title>The Third Eye Foundation - Still-Life</title><description>The Third Eye Foundation - Still-Life</description></video><video duration=\"370\" embed=\"true\" src=\"https://www.youtube.com/watch?v=kZ1fJrHPORI\"><title>The Third Eye Foundation - Next of Kin</title><description>The Third Eye Foundation - Next of Kin</description></video><video duration=\"370\" embed=\"true\" src=\"https://www.youtube.com/watch?v=opqsLFwHvwM\"><title>Third Eye Foundation - Next of Kin</title><description>Third Eye Foundation - Next of Kin</description></video><video duration=\"348\" embed=\"true\" src=\"https://www.youtube.com/watch?v=NqoATN0rN1k\"><title>The Third Eye Foundation - Dreams on His Fingers</title><description>The Third Eye Foundation - Dreams on His Fingers</description></video></videos></master>\n",
      "\n",
      "<master id=\"26079\"><main_release>29147</main_release><images><image height=\"600\" type=\"primary\" uri=\"\" uri150=\"\" width=\"600\"/><image height=\"600\" type=\"secondary\" uri=\"\" uri150=\"\" width=\"600\"/><image height=\"523\" type=\"secondary\" uri=\"\" uri150=\"\" width=\"600\"/><image height=\"46\" type=\"secondary\" uri=\"\" uri150=\"\" width=\"600\"/></images><artists><artist><id>1431</id><name>DJ Food</name><anv></anv><join></join><role></role><tracks></tracks></artist></artists><genres><genre>Electronic</genre></genres><styles><style>Abstract</style><style>Experimental</style></styles><year>2001</year><title>The Quadraplex EP</title><data_quality>Correct</data_quality><videos><video duration=\"241\" embed=\"true\" src=\"https://www.youtube.com/watch?v=Ers83Z9np1U\"><title>Hour Glass</title><description>Hour Glass</description></video><video duration=\"441\" embed=\"true\" src=\"https://www.youtube.com/watch?v=ZTGfvqhBVlQ\"><title>Lookin Glass</title><description>Lookin Glass</description></video><video duration=\"207\" embed=\"true\" src=\"https://www.youtube.com/watch?v=Qvs8WK4x9mg\"><title>Monocle (Silver Dub)</title><description>Monocle (Silver Dub)</description></video><video duration=\"101\" embed=\"true\" src=\"https://www.youtube.com/watch?v=3JSiYnGttzw\"><title>Shattered Glass</title><description>Shattered Glass</description></video><video duration=\"437\" embed=\"true\" src=\"https://www.youtube.com/watch?v=SMigl1dGAfI\"><title>DJ Food  - Looking Glass</title><description>DJ Food  - Looking Glass</description></video><video duration=\"1188\" embed=\"true\" src=\"https://www.youtube.com/watch?v=YAV6PDn0jgk\"><title>DJFood Quadraplex EP 2006</title><description>DJFood Quadraplex EP 2006</description></video></videos></master>\n",
      "\n",
      "<master id=\"33228\"><main_release>341048</main_release><images><image height=\"602\" type=\"primary\" uri=\"\" uri150=\"\" width=\"600\"/><image height=\"600\" type=\"secondary\" uri=\"\" uri150=\"\" width=\"600\"/><image height=\"599\" type=\"secondary\" uri=\"\" uri150=\"\" width=\"600\"/><image height=\"600\" type=\"secondary\" uri=\"\" uri150=\"\" width=\"600\"/><image height=\"784\" type=\"secondary\" uri=\"\" uri150=\"\" width=\"600\"/><image height=\"893\" type=\"secondary\" uri=\"\" uri150=\"\" width=\"600\"/></images><artists><artist><id>20691</id><name>Philip Glass</name><anv></anv><join></join><role></role><tracks></tracks></artist></artists><genres><genre>Electronic</genre><genre>Classical</genre><genre>Stage &amp; Screen</genre></genres><styles><style>Soundtrack</style><style>Modern Classical</style></styles><year>1988</year><title>Powaqqatsi</title><data_quality>Correct</data_quality><videos><video duration=\"303\" embed=\"true\" src=\"https://www.youtube.com/watch?v=jRg3agJn1Mg\"><title>Philip Glass - Powaqqatsi - 01. Serra Pelada</title><description>Philip Glass - Powaqqatsi - 01. Serra Pelada</description></video><video duration=\"24\" embed=\"true\" src=\"https://www.youtube.com/watch?v=4E4gn9nNGYs\"><title>Philip Glass - Powaqqatsi - 02. The Title</title><description>Philip Glass - Powaqqatsi - 02. The Title</description></video><video duration=\"383\" embed=\"true\" src=\"https://www.youtube.com/watch?v=vU04Jah-ojY\"><title>Philip Glass - Powaqqatsi - 03. Anthem - Part 1</title><description>Philip Glass - Powaqqatsi - 03. Anthem - Part 1</description></video><video duration=\"282\" embed=\"true\" src=\"https://www.youtube.com/watch?v=arkywBJynfw\"><title>Philip Glass - Powaqqatsi - 04. That Place</title><description>Philip Glass - Powaqqatsi - 04. That Place</description></video><video duration=\"291\" embed=\"true\" src=\"https://www.youtube.com/watch?v=hlWNvfZksTQ\"><title>Anthem: Part 2---Philip Glass</title><description>Anthem: Part 2---Philip Glass</description></video><video duration=\"230\" embed=\"true\" src=\"https://www.youtube.com/watch?v=3wOiNo44tlQ\"><title>Philip Glass - Powaqqatsi - 06. Mosque and Temple</title><description>Philip Glass - Powaqqatsi - 06. Mosque and Temple</description></video><video duration=\"492\" embed=\"true\" src=\"https://www.youtube.com/watch?v=iyrrEyy7a6Q\"><title>Philip Glass - Powaqqatsi - 07. Anthem - Part 3</title><description>Philip Glass - Powaqqatsi - 07. Anthem - Part 3</description></video><video duration=\"185\" embed=\"true\" src=\"https://www.youtube.com/watch?v=czxzz650kD0\"><title>Philip Glass - Powaqqatsi - 08. Train to Sao Paulo</title><description>Philip Glass - Powaqqatsi - 08. Train to Sao Paulo</description></video><video duration=\"136\" embed=\"true\" src=\"https://www.youtube.com/watch?v=IQQtBMF3qPw\"><title>Philip Glass - Powaqqatsi - 09. Video Dream</title><description>Philip Glass - Powaqqatsi - 09. Video Dream</description></video><video duration=\"168\" embed=\"true\" src=\"https://www.youtube.com/watch?v=nvZpBvYYz4M\"><title>New Cities in Ancient Lands, China</title><description>New Cities in Ancient Lands, China</description></video><video duration=\"177\" embed=\"true\" src=\"https://www.youtube.com/watch?v=CP8DhfLRNQ0\"><title>New Cities in Ancient Lands, Africa</title><description>New Cities in Ancient Lands, Africa</description></video><video duration=\"283\" embed=\"true\" src=\"https://www.youtube.com/watch?v=3O9Y-Uo2nZY\"><title>Philip Glass - Powaqqatsi - 12. New Cities in Ancient Lands, India</title><description>Philip Glass - Powaqqatsi - 12. New Cities in Ancient Lands, India</description></video><video duration=\"423\" embed=\"true\" src=\"https://www.youtube.com/watch?v=2t50-0EYUSA\"><title>Philip Glass - Powaqqatsi - 13. The Unutterable</title><description>Philip Glass - Powaqqatsi - 13. The Unutterable</description></video><video duration=\"441\" embed=\"true\" src=\"https://www.youtube.com/watch?v=3D0ZO6uNjyE\"><title>Philip Glass - Powaqqatsi - 14. CAUGHT!</title><description>Philip Glass - Powaqqatsi - 14. CAUGHT!</description></video><video duration=\"69\" embed=\"true\" src=\"https://www.youtube.com/watch?v=zMAPbcZVDp0\"><title>Philip Glass - Powaqqatsi - 15. Mr. Suso #1</title><description>Philip Glass - Powaqqatsi - 15. Mr. Suso #1</description></video><video duration=\"204\" embed=\"true\" src=\"https://www.youtube.com/watch?v=ZVE-a-24prE\"><title>Philip Glass - Powaqqatsi - 16. From Egypt</title><description>Philip Glass - Powaqqatsi - 16. From Egypt</description></video><video duration=\"79\" embed=\"true\" src=\"https://www.youtube.com/watch?v=fe6JYrYqyUc\"><title>Philip Glass - Powaqqatsi - 17. Mr Suso #2 with Reflection</title><description>Philip Glass - Powaqqatsi - 17. Mr Suso #2 with Reflection</description></video><video duration=\"276\" embed=\"true\" src=\"https://www.youtube.com/watch?v=qcVPZIePgVw\"><title>Philip Glass - Powaqqatsi - 18. Powaqqatsi</title><description>Philip Glass - Powaqqatsi - 18. Powaqqatsi</description></video></videos></master>\n",
      "\n",
      "<master id=\"34829\"><main_release>1351325</main_release><images><image height=\"537\" type=\"primary\" uri=\"\" uri150=\"\" width=\"600\"/><image height=\"494\" type=\"secondary\" uri=\"\" uri150=\"\" width=\"600\"/><image height=\"604\" type=\"secondary\" uri=\"\" uri150=\"\" width=\"600\"/><image height=\"601\" type=\"secondary\" uri=\"\" uri150=\"\" width=\"600\"/><image height=\"538\" type=\"secondary\" uri=\"\" uri150=\"\" width=\"600\"/></images><artists><artist><id>2236</id><name>B12</name><anv></anv><join></join><role></role><tracks></tracks></artist></artists><genres><genre>Electronic</genre></genres><styles><style>IDM</style><style>Techno</style><style>Acid</style></styles><year>2008</year><title>Last Days Of Silence</title><data_quality>Correct</data_quality><videos><video duration=\"381\" embed=\"true\" src=\"https://www.youtube.com/watch?v=gDTEuXPVD1E\"><title>B12 - Don't Be Afraid (Original Mix) (2008)</title><description>B12 - Don't Be Afraid (Original Mix) (2008)</description></video><video duration=\"424\" embed=\"true\" src=\"https://www.youtube.com/watch?v=QWeewcBpdxA\"><title>B12 - Slope</title><description>B12 - Slope</description></video><video duration=\"351\" embed=\"true\" src=\"https://www.youtube.com/watch?v=sSh3qxuXG3o\"><title>B12 - Magnetic Fields</title><description>B12 - Magnetic Fields</description></video><video duration=\"415\" embed=\"true\" src=\"https://www.youtube.com/watch?v=iZBDKYNXGrg\"><title>B12 â€” More Than One (Redcell Mix)</title><description>B12 â€” More Than One (Redcell Mix)</description></video><video duration=\"367\" embed=\"true\" src=\"https://www.youtube.com/watch?v=ML6BKKzi0qo\"><title>B-12 - Hall of Mirrors (Digitonal's String in Space Remix)</title><description>B-12 - Hall of Mirrors (Digitonal's String in Space Remix)</description></video><video duration=\"497\" embed=\"true\" src=\"https://www.youtube.com/watch?v=tFJfLeqyKwo\"><title>B12 - 32 Lineup</title><description>B12 - 32 Lineup</description></video><video duration=\"346\" embed=\"true\" src=\"https://www.youtube.com/watch?v=PJ9fin1DYro\"><title>B12 - Omni Therapy</title><description>B12 - Omni Therapy</description></video><video duration=\"417\" embed=\"true\" src=\"https://www.youtube.com/watch?v=0EUnpC_qyDY\"><title>B12 - Zoo Zoo (Live 2006)</title><description>B12 - Zoo Zoo (Live 2006)</description></video><video duration=\"405\" embed=\"true\" src=\"https://www.youtube.com/watch?v=Yj9OoPaML5c\"><title>B12 - Particle 3 (Live 2007)</title><description>B12 - Particle 3 (Live 2007)</description></video><video duration=\"313\" embed=\"true\" src=\"https://www.youtube.com/watch?v=MY2V_69nSXM\"><title>B12 - Twisted Muva (Live 2007)</title><description>B12 - Twisted Muva (Live 2007)</description></video></videos></master>\n",
      "\n",
      "<master id=\"34832\"><main_release>1497055</main_release><images><image height=\"538\" type=\"primary\" uri=\"\" uri150=\"\" width=\"600\"/><image height=\"539\" type=\"secondary\" uri=\"\" uri150=\"\" width=\"600\"/></images><artists><artist><id>2236</id><name>B12</name><anv></anv><join></join><role></role><tracks></tracks></artist></artists><genres><genre>Electronic</genre></genres><styles><style>IDM</style><style>Techno</style></styles><year>2008</year><title>Last Days Of Silence Remixes</title><data_quality>Correct</data_quality><videos><video duration=\"241\" embed=\"true\" src=\"https://www.youtube.com/watch?v=QaZHbttZdvY\"><title>Don't Be Afraid (Reprise)</title><description>Don't Be Afraid (Reprise)</description></video><video duration=\"297\" embed=\"true\" src=\"https://www.youtube.com/watch?v=2PmePiDjNAc\"><title>More Than One (Cmetric Remix)</title><description>More Than One (Cmetric Remix)</description></video><video duration=\"263\" embed=\"true\" src=\"https://www.youtube.com/watch?v=o1ZgkH5gOGo\"><title>I See You</title><description>I See You</description></video><video duration=\"269\" embed=\"true\" src=\"https://www.youtube.com/watch?v=8L3ep2HDDGY\"><title>Omni Therapy (Twisted)</title><description>Omni Therapy (Twisted)</description></video><video duration=\"415\" embed=\"true\" src=\"https://www.youtube.com/watch?v=iZBDKYNXGrg\"><title>B12 â€” More Than One (Redcell Mix)</title><description>B12 â€” More Than One (Redcell Mix)</description></video><video duration=\"211\" embed=\"true\" src=\"https://www.youtube.com/watch?v=QO5uDdE_TyM\"><title>Within Reason</title><description>Within Reason</description></video><video duration=\"381\" embed=\"true\" src=\"https://www.youtube.com/watch?v=gDTEuXPVD1E\"><title>B12 - Don't Be Afraid (Original Mix) (2008)</title><description>B12 - Don't Be Afraid (Original Mix) (2008)</description></video><video duration=\"331\" embed=\"true\" src=\"https://www.youtube.com/watch?v=fXUp8VmOpvg\"><title>Darkeslight</title><description>Darkeslight</description></video></videos></master>\n",
      "\n",
      "<master id=\"37458\"><main_release>376562</main_release><images><image height=\"532\" type=\"primary\" uri=\"\" uri150=\"\" width=\"600\"/><image height=\"600\" type=\"secondary\" uri=\"\" uri150=\"\" width=\"589\"/><image height=\"521\" type=\"secondary\" uri=\"\" uri150=\"\" width=\"600\"/><image height=\"26\" type=\"secondary\" uri=\"\" uri150=\"\" width=\"600\"/><image height=\"265\" type=\"secondary\" uri=\"\" uri150=\"\" width=\"600\"/><image height=\"263\" type=\"secondary\" uri=\"\" uri150=\"\" width=\"600\"/><image height=\"545\" type=\"secondary\" uri=\"\" uri150=\"\" width=\"600\"/><image height=\"543\" type=\"secondary\" uri=\"\" uri150=\"\" width=\"600\"/></images><artists><artist><id>152878</id><name>Marsen Jules</name><anv></anv><join></join><role></role><tracks></tracks></artist></artists><genres><genre>Electronic</genre></genres><styles><style>Modern Classical</style><style>Ambient</style></styles><year>2005</year><title>Herbstlaub</title><data_quality>Correct</data_quality><videos><video duration=\"370\" embed=\"true\" src=\"https://www.youtube.com/watch?v=Q_2UYKJicLM\"><title>Fanes D'Automne</title><description>Fanes D'Automne</description></video><video duration=\"645\" embed=\"true\" src=\"https://www.youtube.com/watch?v=TleqnwI_IuM\"><title>Marsen Jules - De La Mort D'un Cygne</title><description>Marsen Jules - De La Mort D'un Cygne</description></video><video duration=\"460\" embed=\"true\" src=\"https://www.youtube.com/watch?v=W9nCqASyx-k\"><title>Marsen Jules - Aurore</title><description>Marsen Jules - Aurore</description></video><video duration=\"453\" embed=\"true\" src=\"https://www.youtube.com/watch?v=H3Pvr2vt52c\"><title>Marsen Jules - Aile D'Aigle</title><description>Marsen Jules - Aile D'Aigle</description></video><video duration=\"444\" embed=\"true\" src=\"https://www.youtube.com/watch?v=QlO-bbfH_aw\"><title>Tous Les Coeurs De Cette Terre</title><description>Tous Les Coeurs De Cette Terre</description></video><video duration=\"320\" embed=\"true\" src=\"https://www.youtube.com/watch?v=Qe98NcDcvis\"><title>Marsen Jules - Chanson Du Soir</title><description>Marsen Jules - Chanson Du Soir</description></video></videos></master>\n",
      "\n",
      "<master id=\"37459\"><main_release>690144</main_release><images><image height=\"600\" type=\"secondary\" uri=\"\" uri150=\"\" width=\"600\"/></images><artists><artist><id>152878</id><name>Marsen Jules</name><anv></anv><join></join><role></role><tracks></tracks></artist></artists><genres><genre>Electronic</genre></genres><styles><style>Minimal</style><style>Ambient</style></styles><year>2006</year><title>Les Fleurs</title><data_quality>Correct</data_quality><videos><video duration=\"479\" embed=\"true\" src=\"https://www.youtube.com/watch?v=accnKpxpVCA\"><title>Marsen Jules Trio - Coeur Saignant</title><description>Marsen Jules Trio - Coeur Saignant</description></video><video duration=\"645\" embed=\"true\" src=\"https://www.youtube.com/watch?v=TleqnwI_IuM\"><title>Marsen Jules - De La Mort D'un Cygne</title><description>Marsen Jules - De La Mort D'un Cygne</description></video><video duration=\"446\" embed=\"true\" src=\"https://www.youtube.com/watch?v=31V0VhiAPzQ\"><title>Marsen Jules Trio - Å’illet Sauvage</title><description>Marsen Jules Trio - Å’illet Sauvage</description></video><video duration=\"287\" embed=\"true\" src=\"https://www.youtube.com/watch?v=Wig2JcCkh-8\"><title>Marsen Jules Trio - Å’illet Parfait</title><description>Marsen Jules Trio - Å’illet Parfait</description></video></videos></master>\n",
      "\n",
      "<master id=\"43910\"><main_release>43847</main_release><images><image height=\"600\" type=\"primary\" uri=\"\" uri150=\"\" width=\"600\"/><image height=\"468\" type=\"secondary\" uri=\"\" uri150=\"\" width=\"600\"/><image height=\"600\" type=\"secondary\" uri=\"\" uri150=\"\" width=\"600\"/><image height=\"598\" type=\"secondary\" uri=\"\" uri150=\"\" width=\"600\"/><image height=\"598\" type=\"secondary\" uri=\"\" uri150=\"\" width=\"600\"/></images><artists><artist><id>602</id><name>Skanfrom</name><anv></anv><join></join><role></role><tracks></tracks></artist></artists><genres><genre>Electronic</genre></genres><styles><style>Electro</style><style>Minimal</style><style>Synth-pop</style></styles><notes>The CD compiles tracks from various 7\", 12\", cassette and split-releases, plus a few tracks never before published. The LP version only contains the tracks, that were never before released on vinyl and adds an uncredited bonus-track, a cover version of \"Planet Earth\", originally by [a=Duran Duran].</notes><year>2002</year><title>Hand-Picked Fragments</title><data_quality>Correct</data_quality><videos><video duration=\"169\" embed=\"true\" src=\"https://www.youtube.com/watch?v=IsNaR-D8n2I\"><title>Skanfrom - Check in (2nd)</title><description>Skanfrom - Check in (2nd)</description></video><video duration=\"1727\" embed=\"true\" src=\"https://www.youtube.com/watch?v=_kLp_cjGGQM\"><title>Skanfrom - Hand-picked Fragments (LP Version) (Full Album)</title><description>Skanfrom - Hand-picked Fragments (LP Version) (Full Album)</description></video><video duration=\"393\" embed=\"true\" src=\"https://www.youtube.com/watch?v=kKkv2S1sens\"><title>skanfrom - england</title><description>skanfrom - england</description></video><video duration=\"211\" embed=\"true\" src=\"https://www.youtube.com/watch?v=85cbVLyynJs\"><title>Skanfrom - Cashier</title><description>Skanfrom - Cashier</description></video></videos></master>\n",
      "\n",
      "<master id=\"44977\"><main_release>26456</main_release><images><image height=\"600\" type=\"primary\" uri=\"\" uri150=\"\" width=\"600\"/><image height=\"516\" type=\"secondary\" uri=\"\" uri150=\"\" width=\"600\"/><image height=\"540\" type=\"secondary\" uri=\"\" uri150=\"\" width=\"600\"/><image height=\"541\" type=\"secondary\" uri=\"\" uri150=\"\" width=\"600\"/><image height=\"511\" type=\"secondary\" uri=\"\" uri150=\"\" width=\"600\"/><image height=\"600\" type=\"secondary\" uri=\"\" uri150=\"\" width=\"600\"/></images><artists><artist><id>22152</id><name>Ulrich Schnauss</name><anv></anv><join></join><role></role><tracks></tracks></artist></artists><genres><genre>Electronic</genre></genres><styles><style>IDM</style><style>Downtempo</style></styles><year>2001</year><title>Far Away Trains Passing By</title><data_quality>Correct</data_quality><videos><video duration=\"407\" embed=\"true\" src=\"https://www.youtube.com/watch?v=MLs35E74s20\"><title>Ulrich Schnauss - Sunday Evening In Your Street</title><description>Ulrich Schnauss - Sunday Evening In Your Street</description></video><video duration=\"422\" embed=\"true\" src=\"https://www.youtube.com/watch?v=-s50jAWtCdQ\"><title>Ulrich Schnauss - Knuddelmaus</title><description>Ulrich Schnauss - Knuddelmaus</description></video><video duration=\"488\" embed=\"true\" src=\"https://www.youtube.com/watch?v=7ZRUVhJho6I\"><title>Ulrich Schnauss - Molfsee</title><description>Ulrich Schnauss - Molfsee</description></video><video duration=\"450\" embed=\"true\" src=\"https://www.youtube.com/watch?v=0k_P-Fzt-jc\"><title>Ulrich Schnauss. Between Us And Them.</title><description>Ulrich Schnauss. Between Us And Them.</description></video><video duration=\"396\" embed=\"true\" src=\"https://www.youtube.com/watch?v=JdvS1s9BiEw\"><title>Ulrich Schnauss - ...passing by</title><description>Ulrich Schnauss - ...passing by</description></video><video duration=\"383\" embed=\"true\" src=\"https://www.youtube.com/watch?v=eX91uGd9iuU\"><title>Ulrich Schnauss - Suddenly The Trees Are Giving Way</title><description>Ulrich Schnauss - Suddenly The Trees Are Giving Way</description></video><video duration=\"398\" embed=\"true\" src=\"https://www.youtube.com/watch?v=jn604M1IfDk\"><title>Ulrich Schnauss - Wherever You Are</title><description>Ulrich Schnauss - Wherever You Are</description></video><video duration=\"396\" embed=\"true\" src=\"https://www.youtube.com/watch?v=SfDpekol2T8\"><title>Ulrich Schnauss - ...Passing By</title><description>Ulrich Schnauss - ...Passing By</description></video><video duration=\"396\" embed=\"true\" src=\"https://www.youtube.com/watch?v=paMPMqTUMAQ\"><title>Passing By - Ulrich Schnauss - Far Away Trains Passing By - Best Audio</title><description>Passing By - Ulrich Schnauss - Far Away Trains Passing By - Best Audio</description></video><video duration=\"421\" embed=\"true\" src=\"https://www.youtube.com/watch?v=1Mk-SAyNKNk\"><title>Ulrich Schnauss - As If You've Never Been Away</title><description>Ulrich Schnauss - As If You've Never Been Away</description></video><video duration=\"384\" embed=\"true\" src=\"https://www.youtube.com/watch?v=z9jRZ-LyAnI\"><title>Ulrich Schnauss - Nothing Happens In June - HD</title><description>Ulrich Schnauss - Nothing Happens In June - HD</description></video></videos></master>\n",
      "\n",
      "<master id=\"68232\"><main_release>43153</main_release><images><image height=\"745\" type=\"primary\" uri=\"\" uri150=\"\" width=\"600\"/><image height=\"286\" type=\"secondary\" uri=\"\" uri150=\"\" width=\"567\"/><image height=\"286\" type=\"secondary\" uri=\"\" uri150=\"\" width=\"567\"/><image height=\"279\" type=\"secondary\" uri=\"\" uri150=\"\" width=\"354\"/><image height=\"279\" type=\"secondary\" uri=\"\" uri150=\"\" width=\"354\"/></images><artists><artist><id>49</id><name>Gescom</name><anv></anv><join></join><role></role><tracks></tracks></artist></artists><genres><genre>Electronic</genre></genres><styles><style>Abstract</style><style>IDM</style><style>Experimental</style></styles><year>1998</year><title>Minidisc</title><data_quality>Correct</data_quality><videos><video duration=\"63\" embed=\"true\" src=\"https://www.youtube.com/watch?v=EUcpQo8HCl0\"><title>helix shatterproof - gescom</title><description>helix shatterproof - gescom</description></video><video duration=\"63\" embed=\"true\" src=\"https://www.youtube.com/watch?v=q77-rEEaoaA\"><title>gescom - mcdcc</title><description>gescom - mcdcc</description></video><video duration=\"63\" embed=\"true\" src=\"https://www.youtube.com/watch?v=ms5ctXSLAvI\"><title>peel - gescom</title><description>peel - gescom</description></video><video duration=\"65\" embed=\"true\" src=\"https://www.youtube.com/watch?v=xb4ig-YYaz4\"><title>hemiplegia 1 - gescom</title><description>hemiplegia 1 - gescom</description></video><video duration=\"66\" embed=\"true\" src=\"https://www.youtube.com/watch?v=hBajiMspe7o\"><title>amendment 84 - gescom</title><description>amendment 84 - gescom</description></video><video duration=\"68\" embed=\"true\" src=\"https://www.youtube.com/watch?v=lEGNCM6fZVE\"><title>shep - gescom</title><description>shep - gescom</description></video><video duration=\"91\" embed=\"true\" src=\"https://www.youtube.com/watch?v=_ZOc68uDjRs\"><title>new contact lense - gescom</title><description>new contact lense - gescom</description></video><video duration=\"133\" embed=\"true\" src=\"https://www.youtube.com/watch?v=D-02Z5sT-5Y\"><title>1D shapethrower - gescom</title><description>1D shapethrower - gescom</description></video><video duration=\"162\" embed=\"true\" src=\"https://www.youtube.com/watch?v=zoMsdp2FxVg\"><title>inter - gescom</title><description>inter - gescom</description></video><video duration=\"168\" embed=\"true\" src=\"https://www.youtube.com/watch?v=TUv9Zm7G1m8\"><title>yo! dmx crew - gescom</title><description>yo! dmx crew - gescom</description></video><video duration=\"176\" embed=\"true\" src=\"https://www.youtube.com/watch?v=wiuc-I1jWuk\"><title>cranusberg - gescom</title><description>cranusberg - gescom</description></video><video duration=\"189\" embed=\"true\" src=\"https://www.youtube.com/watch?v=nJxAuIzZgCQ\"><title>is we - gescom</title><description>is we - gescom</description></video><video duration=\"253\" embed=\"true\" src=\"https://www.youtube.com/watch?v=aDUUnBgisho\"><title>shoegazer - gescom</title><description>shoegazer - gescom</description></video></videos></master>\n",
      "\n",
      "<master id=\"95950\"><main_release>31126</main_release><images><image height=\"600\" type=\"primary\" uri=\"\" uri150=\"\" width=\"600\"/><image height=\"600\" type=\"secondary\" uri=\"\" uri150=\"\" width=\"600\"/><image height=\"600\" type=\"secondary\" uri=\"\" uri150=\"\" width=\"600\"/><image height=\"600\" type=\"secondary\" uri=\"\" uri150=\"\" width=\"600\"/><image height=\"470\" type=\"secondary\" uri=\"\" uri150=\"\" width=\"600\"/><image height=\"600\" type=\"secondary\" uri=\"\" uri150=\"\" width=\"596\"/></images><artists><artist><id>1433</id><name>Up, Bustle &amp; Out</name><anv>Up, Bustle And Out</anv><join></join><role></role><tracks></tracks></artist></artists><genres><genre>Electronic</genre><genre>Jazz</genre><genre>Latin</genre><genre>Folk, World, &amp; Country</genre></genres><styles><style>Trip Hop</style><style>Latin</style><style>Downtempo</style><style>Future Jazz</style></styles><year>1994</year><title>The Breeze Was Mellow (As The Guns Cooled In The Cellar)</title><data_quality>Correct</data_quality><videos><video duration=\"411\" embed=\"true\" src=\"https://www.youtube.com/watch?v=eY2_3TMIsNg\"><title>Up, Bustle &amp; Out - Lazy Daze</title><description>Up, Bustle &amp; Out - Lazy Daze</description></video><video duration=\"289\" embed=\"true\" src=\"https://www.youtube.com/watch?v=kSchMHl4DZ8\"><title>Up, Bustle and Out - Utopian Skank</title><description>Up, Bustle and Out - Utopian Skank</description></video><video duration=\"219\" embed=\"true\" src=\"https://www.youtube.com/watch?v=EIAAvcilIKM\"><title>Up, Bustle &amp; Out - Apple Strudel</title><description>Up, Bustle &amp; Out - Apple Strudel</description></video><video duration=\"360\" embed=\"true\" src=\"https://www.youtube.com/watch?v=wmDJwiGTPZ8\"><title>Up, Bustle And Out-Coffee At Senor Roody's (1994) HD</title><description>Up, Bustle And Out-Coffee At Senor Roody's (1994) HD</description></video><video duration=\"309\" embed=\"true\" src=\"https://www.youtube.com/watch?v=K1LcYRNYN14\"><title>Up, Bustle &amp; Out - !Que Pasatiempo Mas Formidable!</title><description>Up, Bustle &amp; Out - !Que Pasatiempo Mas Formidable!</description></video></videos></master>\n",
      "\n",
      "<master id=\"125598\"><main_release>11154</main_release><images><image height=\"380\" type=\"primary\" uri=\"\" uri150=\"\" width=\"424\"/></images><artists><artist><id>11120</id><name>Zorn</name><anv></anv><join></join><role></role><tracks></tracks></artist></artists><genres><genre>Electronic</genre></genres><styles><style>IDM</style><style>Techno</style><style>Experimental</style></styles><year>2001</year><title>The City's Collapsing (But Not Tonight)</title><data_quality>Correct</data_quality><videos><video duration=\"792\" embed=\"true\" src=\"https://www.youtube.com/watch?v=UZDxFgBBCQM\"><title>Zorn - Kopfleuchten + The City's Collapsing Mixed by Dan March 2001</title><description>Zorn - Kopfleuchten + The City's Collapsing Mixed by Dan March 2001</description></video><video duration=\"408\" embed=\"true\" src=\"https://www.youtube.com/watch?v=otUSj7Tbmj4\"><title>Zorn - The City's Collapsing But Not Tonight (But Not Tonight)</title><description>Zorn - The City's Collapsing But Not Tonight (But Not Tonight)</description></video><video duration=\"323\" embed=\"true\" src=\"https://www.youtube.com/watch?v=DWNjvaUK62g\"><title>Zorn - Visit My Towel</title><description>Zorn - Visit My Towel</description></video><video duration=\"213\" embed=\"true\" src=\"https://www.youtube.com/watch?v=s3ItjAtvI_Y\"><title>Zorn - Stigmata</title><description>Zorn - Stigmata</description></video><video duration=\"292\" embed=\"true\" src=\"https://www.youtube.com/watch?v=hC_lLtcE1Xs\"><title>Zorn - Sputnik</title><description>Zorn - Sputnik</description></video></videos></master>\n",
      "\n"
     ]
    }
   ],
   "source": [
    "with open('C:/Users/mjhar/Downloads/discogs_20200101_masters.xml') as f:\n",
    "    for x in range(30):\n",
    "        print(f.readline())"
   ]
  },
  {
   "cell_type": "markdown",
   "metadata": {},
   "source": [
    "#### regex sandbox"
   ]
  },
  {
   "cell_type": "code",
   "execution_count": 21,
   "metadata": {},
   "outputs": [],
   "source": [
    "import re"
   ]
  },
  {
   "cell_type": "code",
   "execution_count": 23,
   "metadata": {},
   "outputs": [
    {
     "name": "stdout",
     "output_type": "stream",
     "text": [
      "Danses D'Afrique\n"
     ]
    }
   ],
   "source": [
    "# \\-(.*)  pattern for eveythig after a '-'\n",
    "s =  \"Samuel L - Danses D'Afrique\"\n",
    "regexp = re.compile(\"\\- (.*)\")\n",
    "print(regexp.search(s).group(1))"
   ]
  },
  {
   "cell_type": "markdown",
   "metadata": {},
   "source": [
    "#### string partition instead of regex"
   ]
  },
  {
   "cell_type": "code",
   "execution_count": 10,
   "metadata": {},
   "outputs": [],
   "source": [
    "mystring =  \"Samuel L - Danses D'Afrique\"\n",
    "keyword = ' - '\n",
    "before_keyword, keyword, after_keyword = mystring.partition(keyword)"
   ]
  },
  {
   "cell_type": "code",
   "execution_count": 11,
   "metadata": {},
   "outputs": [
    {
     "data": {
      "text/plain": [
       "\"Danses D'Afrique\""
      ]
     },
     "execution_count": 11,
     "metadata": {},
     "output_type": "execute_result"
    }
   ],
   "source": [
    "after_keyword"
   ]
  },
  {
   "cell_type": "code",
   "execution_count": null,
   "metadata": {},
   "outputs": [],
   "source": [
    "s ='Vince Watson Floating Chamber video by Taho'"
   ]
  },
  {
   "cell_type": "code",
   "execution_count": null,
   "metadata": {},
   "outputs": [],
   "source": []
  },
  {
   "cell_type": "code",
   "execution_count": null,
   "metadata": {},
   "outputs": [],
   "source": []
  },
  {
   "cell_type": "code",
   "execution_count": null,
   "metadata": {},
   "outputs": [],
   "source": []
  },
  {
   "cell_type": "code",
   "execution_count": null,
   "metadata": {},
   "outputs": [],
   "source": []
  },
  {
   "cell_type": "code",
   "execution_count": null,
   "metadata": {},
   "outputs": [],
   "source": []
  },
  {
   "cell_type": "code",
   "execution_count": null,
   "metadata": {},
   "outputs": [],
   "source": []
  },
  {
   "cell_type": "code",
   "execution_count": null,
   "metadata": {},
   "outputs": [],
   "source": []
  },
  {
   "cell_type": "code",
   "execution_count": null,
   "metadata": {},
   "outputs": [],
   "source": []
  }
 ],
 "metadata": {
  "kernelspec": {
   "display_name": "Python 3",
   "language": "python",
   "name": "python3"
  },
  "language_info": {
   "codemirror_mode": {
    "name": "ipython",
    "version": 3
   },
   "file_extension": ".py",
   "mimetype": "text/x-python",
   "name": "python",
   "nbconvert_exporter": "python",
   "pygments_lexer": "ipython3",
   "version": "3.8.4"
  }
 },
 "nbformat": 4,
 "nbformat_minor": 4
}
