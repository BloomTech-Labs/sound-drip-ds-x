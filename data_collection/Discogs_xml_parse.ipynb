{
 "cells": [
  {
   "cell_type": "code",
   "execution_count": 192,
   "metadata": {},
   "outputs": [],
   "source": [
    "import xml.etree.ElementTree as ET\n",
    "import sys"
   ]
  },
  {
   "cell_type": "markdown",
   "metadata": {},
   "source": [
    "#### download from https://data.discogs.com/"
   ]
  },
  {
   "cell_type": "code",
   "execution_count": 193,
   "metadata": {},
   "outputs": [],
   "source": [
    "file_path = 'C:/Users/mjhar/Downloads/discogs_20200101_masters.xml'\n",
    "file_ = open(file_path, 'rb')"
   ]
  },
  {
   "cell_type": "markdown",
   "metadata": {},
   "source": [
    "#### Using iterparse for large files"
   ]
  },
  {
   "cell_type": "code",
   "execution_count": 194,
   "metadata": {},
   "outputs": [],
   "source": [
    "context = ET.iterparse(file_, events=('start', 'end'))\n",
    "context = iter(context)"
   ]
  },
  {
   "cell_type": "markdown",
   "metadata": {},
   "source": [
    "#### Sandboxing, learing how to interact with the file structure"
   ]
  },
  {
   "cell_type": "code",
   "execution_count": 195,
   "metadata": {},
   "outputs": [],
   "source": [
    "elems = []\n",
    "i=0\n",
    "albtrck = {}\n",
    "\n",
    "for event, ele in context:\n",
    "    \n",
    "    # manual catch for runaway iteration\n",
    "    if i>10000:\n",
    "        print('d')\n",
    "        break\n",
    "        \n",
    "    #indicates end of album info\n",
    "    elif event == 'end' and ele.tag == 'master':\n",
    "        i+=1\n",
    "        if i > 5:\n",
    "            break\n",
    "        else:\n",
    "            continue\n",
    "    \n",
    "    #indicates begining of album info \n",
    "    elif event == 'start' and ele.tag == 'master':\n",
    "        #print('this')\n",
    "        alb = ''\n",
    "        continue\n",
    "\n",
    "    #indicates artist name\n",
    "    elif event == 'start' and ele.tag == 'name':\n",
    "        artist = ele.text\n",
    "        if artist in albtrck.keys():\n",
    "            continue\n",
    "        else:\n",
    "            albtrck[artist] = {}\n",
    "    \n",
    "    #indicates album title\n",
    "    elif event == 'start' and ele.tag == 'title' and alb == '':\n",
    "        #print('here')\n",
    "        alb = ele.text\n",
    "        albtrck[artist][alb] = []\n",
    "        continue\n",
    "    \n",
    "    #indicates track title\n",
    "    elif event == 'start' and ele.tag == 'title' and len(alb) > 0:\n",
    "        albtrck[artist][alb].append(ele.text)\n",
    "        \n",
    "        \n"
   ]
  },
  {
   "cell_type": "code",
   "execution_count": 196,
   "metadata": {},
   "outputs": [
    {
     "data": {
      "text/plain": [
       "{'Samuel L Session': {'New Soil': ['Samuel L - Velvet',\n",
       "   \"Samuel L - Danses D'Afrique\",\n",
       "   \"Samuel L - Body N' Soul\",\n",
       "   'Samuel L - Into The Groove',\n",
       "   'Samuel L - Soul Syndrome',\n",
       "   'Samuel L - Lush',\n",
       "   'Samuel L - Velvet ( Direct Me )'],\n",
       "  'Psyche EP': ['Samuel L. Session - Arrival',\n",
       "   'Samuel L. Session - Psyche Part 1',\n",
       "   'Samuel L. Session - Psyche Part 2']},\n",
       " 'Peshay': {'Renegades Of Funk': []},\n",
       " 'Vince Watson': {'Tuff Trax #1 - Basic Functions': ['Tuff Trax #1 - Basic Functions (Vince Watson)'],\n",
       "  'The eMotion Sequence': ['Vince Watson - The eMotion Sequence',\n",
       "   'Vince Watson - Believer',\n",
       "   'Vince Watson - Ioa (Live Version)',\n",
       "   'Vince Watson Floating Chamber video by Taho',\n",
       "   'Vince Watson - Long Way From Home',\n",
       "   'Vince Watson - MidiSensual',\n",
       "   'Vince Watson - Solitude']},\n",
       " 'Weekender': {'Kneel Before Zod': ['Weekender  -  Sunday Session',\n",
       "   'Weekender - Theme From Weekender Pt. 1 / Pt. 2',\n",
       "   'Weekender - Lost In The Loft',\n",
       "   'Weekender - On The One',\n",
       "   'WEEKENDER - Hugo A-Go-Go (2000) - Simon Bradshaw - Nu Jazz - 320 kbps',\n",
       "   'Weekender - Sticky Telescope',\n",
       "   'Weekender  -  Spirit In Your Soul (Album Mix)',\n",
       "   'Weekender - Channel Check']}}"
      ]
     },
     "execution_count": 196,
     "metadata": {},
     "output_type": "execute_result"
    }
   ],
   "source": [
    "albtrck"
   ]
  },
  {
   "cell_type": "code",
   "execution_count": null,
   "metadata": {},
   "outputs": [],
   "source": [
    "# 250,000,000 bytes to .25 gb"
   ]
  },
  {
   "cell_type": "markdown",
   "metadata": {},
   "source": [
    "#### viewing fil structure"
   ]
  },
  {
   "cell_type": "code",
   "execution_count": 4,
   "metadata": {},
   "outputs": [
    {
     "name": "stdout",
     "output_type": "stream",
     "text": [
      "<masters>\n",
      "\n",
      "<master id=\"18500\"><main_release>155102</main_release><images><image height=\"588\" type=\"primary\" uri=\"\" uri150=\"\" width=\"600\"/></images><artists><artist><id>212070</id><name>Samuel L Session</name><anv>Samuel L</anv><join></join><role></role><tracks></tracks></artist></artists><genres><genre>Electronic</genre></genres><styles><style>Techno</style></styles><year>2001</year><title>New Soil</title><data_quality>Correct</data_quality><videos><video duration=\"489\" embed=\"true\" src=\"https://www.youtube.com/watch?v=f05Ai921itM\"><title>Samuel L - Velvet</title><description>Samuel L - Velvet</description></video><video duration=\"348\" embed=\"true\" src=\"https://www.youtube.com/watch?v=v23rSPG_StA\"><title>Samuel L - Danses D'Afrique</title><description>Samuel L - Danses D'Afrique</description></video><video duration=\"288\" embed=\"true\" src=\"https://www.youtube.com/watch?v=tHo82ha6p40\"><title>Samuel L - Body N' Soul</title><description>Samuel L - Body N' Soul</description></video><video duration=\"331\" embed=\"true\" src=\"https://www.youtube.com/watch?v=KDcqzHca5dk\"><title>Samuel L - Into The Groove</title><description>Samuel L - Into The Groove</description></video><video duration=\"334\" embed=\"true\" src=\"https://www.youtube.com/watch?v=3DIYjJFl8Dk\"><title>Samuel L - Soul Syndrome</title><description>Samuel L - Soul Syndrome</description></video><video duration=\"325\" embed=\"true\" src=\"https://www.youtube.com/watch?v=_o8yZMPqvNg\"><title>Samuel L - Lush</title><description>Samuel L - Lush</description></video><video duration=\"346\" embed=\"true\" src=\"https://www.youtube.com/watch?v=JPwwJSc_-30\"><title>Samuel L - Velvet ( Direct Me )</title><description>Samuel L - Velvet ( Direct Me )</description></video></videos></master>\n",
      "\n",
      "<master id=\"18512\"><main_release>33699</main_release><images><image height=\"150\" type=\"primary\" uri=\"\" uri150=\"\" width=\"150\"/><image height=\"592\" type=\"secondary\" uri=\"\" uri150=\"\" width=\"600\"/><image height=\"592\" type=\"secondary\" uri=\"\" uri150=\"\" width=\"600\"/></images><artists><artist><id>212070</id><name>Samuel L Session</name><anv></anv><join></join><role></role><tracks></tracks></artist></artists><genres><genre>Electronic</genre></genres><styles><style>Tribal</style><style>Techno</style></styles><year>2002</year><title>Psyche EP</title><data_quality>Correct</data_quality><videos><video duration=\"118\" embed=\"true\" src=\"https://www.youtube.com/watch?v=QYf4j0Pd2FU\"><title>Samuel L. Session - Arrival</title><description>Samuel L. Session - Arrival</description></video><video duration=\"376\" embed=\"true\" src=\"https://www.youtube.com/watch?v=c_AfLqTdncI\"><title>Samuel L. Session - Psyche Part 1</title><description>Samuel L. Session - Psyche Part 1</description></video><video duration=\"419\" embed=\"true\" src=\"https://www.youtube.com/watch?v=0nxvR8Zl9wY\"><title>Samuel L. Session - Psyche Part 2</title><description>Samuel L. Session - Psyche Part 2</description></video></videos></master>\n",
      "\n",
      "<master id=\"27800\"><main_release>1601455</main_release><images><image height=\"607\" type=\"primary\" uri=\"\" uri150=\"\" width=\"600\"/><image height=\"595\" type=\"secondary\" uri=\"\" uri150=\"\" width=\"600\"/><image height=\"596\" type=\"secondary\" uri=\"\" uri150=\"\" width=\"600\"/><image height=\"607\" type=\"secondary\" uri=\"\" uri150=\"\" width=\"600\"/><image height=\"467\" type=\"secondary\" uri=\"\" uri150=\"\" width=\"600\"/><image height=\"460\" type=\"secondary\" uri=\"\" uri150=\"\" width=\"600\"/></images><artists><artist><id>278</id><name>Peshay</name><anv></anv><join></join><role></role><tracks></tracks></artist></artists><genres><genre>Electronic</genre></genres><styles><style>Drum n Bass</style></styles><year>2001</year><title>Renegades Of Funk</title><data_quality>Correct</data_quality></master>\n",
      "\n",
      "<master id=\"57416\"><main_release>1678659</main_release><images><image height=\"600\" type=\"primary\" uri=\"\" uri150=\"\" width=\"593\"/><image height=\"600\" type=\"secondary\" uri=\"\" uri150=\"\" width=\"591\"/></images><artists><artist><id>3225</id><name>Vince Watson</name><anv></anv><join></join><role></role><tracks></tracks></artist></artists><genres><genre>Electronic</genre></genres><styles><style>Techno</style></styles><year>1996</year><title>Tuff Trax #1 - Basic Functions</title><data_quality>Correct</data_quality><videos><video duration=\"385\" embed=\"true\" src=\"https://www.youtube.com/watch?v=9du5Ibw8wMM\"><title>Tuff Trax #1 - Basic Functions (Vince Watson)</title><description>Tuff Trax #1 - Basic Functions (Vince Watson)</description></video></videos></master>\n",
      "\n",
      "<master id=\"57427\"><main_release>828886</main_release><images><image height=\"600\" type=\"primary\" uri=\"\" uri150=\"\" width=\"600\"/><image height=\"514\" type=\"secondary\" uri=\"\" uri150=\"\" width=\"600\"/></images><artists><artist><id>3225</id><name>Vince Watson</name><anv></anv><join></join><role></role><tracks></tracks></artist></artists><genres><genre>Electronic</genre></genres><styles><style>Techno</style><style>Downtempo</style></styles><year>2006</year><title>The eMotion Sequence</title><data_quality>Correct</data_quality><videos><video duration=\"403\" embed=\"true\" src=\"https://www.youtube.com/watch?v=YnqddWVeV7g\"><title>Vince Watson - The eMotion Sequence</title><description>Vince Watson - The eMotion Sequence</description></video><video duration=\"381\" embed=\"true\" src=\"https://www.youtube.com/watch?v=owr-QVV8Ui4\"><title>Vince Watson - Believer</title><description>Vince Watson - Believer</description></video><video duration=\"426\" embed=\"true\" src=\"https://www.youtube.com/watch?v=r2qfABCApVE\"><title>Vince Watson - Ioa (Live Version)</title><description>Vince Watson - Ioa (Live Version)</description></video><video duration=\"521\" embed=\"true\" src=\"https://www.youtube.com/watch?v=UPKrsHv2Pgs\"><title>Vince Watson Floating Chamber video by Taho</title><description>Vince Watson Floating Chamber video by Taho</description></video><video duration=\"324\" embed=\"true\" src=\"https://www.youtube.com/watch?v=8fMnwqWIyS0\"><title>Vince Watson - Long Way From Home</title><description>Vince Watson - Long Way From Home</description></video><video duration=\"507\" embed=\"true\" src=\"https://www.youtube.com/watch?v=IMqoS0hDfis\"><title>Vince Watson - MidiSensual</title><description>Vince Watson - MidiSensual</description></video><video duration=\"268\" embed=\"true\" src=\"https://www.youtube.com/watch?v=yC31hr8DyrM\"><title>Vince Watson - Solitude</title><description>Vince Watson - Solitude</description></video></videos></master>\n",
      "\n",
      "<master id=\"102848\"><main_release>34688</main_release><images><image height=\"600\" type=\"primary\" uri=\"\" uri150=\"\" width=\"596\"/><image height=\"600\" type=\"secondary\" uri=\"\" uri150=\"\" width=\"600\"/></images><artists><artist><id>639</id><name>Weekender</name><anv></anv><join></join><role></role><tracks></tracks></artist></artists><genres><genre>Electronic</genre></genres><styles><style>House</style><style>Deep House</style></styles><year>2000</year><title>Kneel Before Zod</title><data_quality>Correct</data_quality><videos><video duration=\"469\" embed=\"true\" src=\"https://www.youtube.com/watch?v=oJjEUvxfHCw\"><title>Weekender  -  Sunday Session</title><description>Weekender  -  Sunday Session</description></video><video duration=\"650\" embed=\"true\" src=\"https://www.youtube.com/watch?v=Fr6N4kVaNmc\"><title>Weekender - Theme From Weekender Pt. 1 / Pt. 2</title><description>Weekender - Theme From Weekender Pt. 1 / Pt. 2</description></video><video duration=\"429\" embed=\"true\" src=\"https://www.youtube.com/watch?v=-HfL0mjQyjw\"><title>Weekender - Lost In The Loft</title><description>Weekender - Lost In The Loft</description></video><video duration=\"441\" embed=\"true\" src=\"https://www.youtube.com/watch?v=NKeJdS4NXqE\"><title>Weekender - On The One</title><description>Weekender - On The One</description></video><video duration=\"429\" embed=\"true\" src=\"https://www.youtube.com/watch?v=cXndW-rUF-s\"><title>WEEKENDER - Hugo A-Go-Go (2000) - Simon Bradshaw - Nu Jazz - 320 kbps</title><description>WEEKENDER - Hugo A-Go-Go (2000) - Simon Bradshaw - Nu Jazz - 320 kbps</description></video><video duration=\"391\" embed=\"true\" src=\"https://www.youtube.com/watch?v=D7TlqShB7ms\"><title>Weekender - Sticky Telescope</title><description>Weekender - Sticky Telescope</description></video><video duration=\"485\" embed=\"true\" src=\"https://www.youtube.com/watch?v=LF2fBBbTlbE\"><title>Weekender  -  Spirit In Your Soul (Album Mix)</title><description>Weekender  -  Spirit In Your Soul (Album Mix)</description></video><video duration=\"432\" embed=\"true\" src=\"https://www.youtube.com/watch?v=G6g-K2Ebb8M\"><title>Weekender - Channel Check</title><description>Weekender - Channel Check</description></video></videos></master>\n",
      "\n",
      "<master id=\"102849\"><main_release>23585</main_release><images><image height=\"395\" type=\"primary\" uri=\"\" uri150=\"\" width=\"397\"/><image height=\"600\" type=\"secondary\" uri=\"\" uri150=\"\" width=\"600\"/><image height=\"600\" type=\"secondary\" uri=\"\" uri150=\"\" width=\"600\"/></images><artists><artist><id>639</id><name>Weekender</name><anv></anv><join></join><role></role><tracks></tracks></artist></artists><genres><genre>Electronic</genre></genres><styles><style>Deep House</style></styles><year>2001</year><title>Sticky Telescope</title><data_quality>Correct</data_quality><videos><video duration=\"475\" embed=\"true\" src=\"https://www.youtube.com/watch?v=6B8Vp0W7VM0\"><title>Sticky Dub</title><description>Sticky Dub</description></video><video duration=\"387\" embed=\"true\" src=\"https://www.youtube.com/watch?v=WXfm433wDKo\"><title>Sticky Telescope</title><description>Sticky Telescope</description></video><video duration=\"389\" embed=\"true\" src=\"https://www.youtube.com/watch?v=kCQS1G8Z4l0\"><title>Sticky Edit</title><description>Sticky Edit</description></video><video duration=\"474\" embed=\"true\" src=\"https://www.youtube.com/watch?v=cNQ5tfFd660\"><title>Weekender - Sticky Telescope (Dub)</title><description>Weekender - Sticky Telescope (Dub)</description></video><video duration=\"387\" embed=\"true\" src=\"https://www.youtube.com/watch?v=xBvy8idX_pA\"><title>Weekender  -  Sticky Telescope</title><description>Weekender  -  Sticky Telescope</description></video><video duration=\"391\" embed=\"true\" src=\"https://www.youtube.com/watch?v=D7TlqShB7ms\"><title>Weekender - Sticky Telescope</title><description>Weekender - Sticky Telescope</description></video></videos></master>\n",
      "\n",
      "<master id=\"102850\"><main_release>16154</main_release><images><image height=\"594\" type=\"secondary\" uri=\"\" uri150=\"\" width=\"600\"/><image height=\"596\" type=\"secondary\" uri=\"\" uri150=\"\" width=\"600\"/></images><artists><artist><id>639</id><name>Weekender</name><anv></anv><join></join><role></role><tracks></tracks></artist></artists><genres><genre>Electronic</genre></genres><styles><style>Deep House</style><style>Tech House</style></styles><year>2001</year><title>Sunday Session (Remixes)</title><data_quality>Correct</data_quality><videos><video duration=\"519\" embed=\"true\" src=\"https://www.youtube.com/watch?v=Nu3wi9B80QU\"><title>Weekender feat. Zoe Johnston  -  Sunday Session (Vox Dub)</title><description>Weekender feat. Zoe Johnston  -  Sunday Session (Vox Dub)</description></video><video duration=\"469\" embed=\"true\" src=\"https://www.youtube.com/watch?v=oJjEUvxfHCw\"><title>Weekender  -  Sunday Session</title><description>Weekender  -  Sunday Session</description></video><video duration=\"511\" embed=\"true\" src=\"https://www.youtube.com/watch?v=2i2sI5Vv66U\"><title>Weekender-Sunday Session (Vocal Dub B1)</title><description>Weekender-Sunday Session (Vocal Dub B1)</description></video><video duration=\"494\" embed=\"true\" src=\"https://www.youtube.com/watch?v=fG6l4a-uC0g\"><title>The Room8 Record Bag: Weekender - Sunday Sesssion</title><description>The Room8 Record Bag: Weekender - Sunday Sesssion</description></video></videos></master>\n",
      "\n",
      "<master id=\"102851\"><main_release>56623</main_release><images><image height=\"421\" type=\"primary\" uri=\"\" uri150=\"\" width=\"421\"/><image height=\"602\" type=\"secondary\" uri=\"\" uri150=\"\" width=\"600\"/><image height=\"600\" type=\"secondary\" uri=\"\" uri150=\"\" width=\"600\"/></images><artists><artist><id>639</id><name>Weekender</name><anv></anv><join></join><role></role><tracks></tracks></artist></artists><genres><genre>Electronic</genre></genres><styles><style>House</style></styles><year>1998</year><title>Lost In The Loft</title><data_quality>Correct</data_quality><videos><video duration=\"428\" embed=\"true\" src=\"https://www.youtube.com/watch?v=uX1dQ4W4kwk\"><title>Weekender  -  Lost In The Loft</title><description>Weekender  -  Lost In The Loft</description></video><video duration=\"359\" embed=\"true\" src=\"https://www.youtube.com/watch?v=VO_IK-PLryk\"><title>Weekender - Sunday Sessions</title><description>Weekender - Sunday Sessions</description></video></videos></master>\n",
      "\n"
     ]
    }
   ],
   "source": [
    "with open('C:/Users/mjhar/Downloads/discogs_20200101_masters.xml') as f:\n",
    "    for x in range(10):\n",
    "        print(f.readline())"
   ]
  },
  {
   "cell_type": "code",
   "execution_count": null,
   "metadata": {},
   "outputs": [],
   "source": []
  }
 ],
 "metadata": {
  "kernelspec": {
   "display_name": "Python 3",
   "language": "python",
   "name": "python3"
  },
  "language_info": {
   "codemirror_mode": {
    "name": "ipython",
    "version": 3
   },
   "file_extension": ".py",
   "mimetype": "text/x-python",
   "name": "python",
   "nbconvert_exporter": "python",
   "pygments_lexer": "ipython3",
   "version": "3.8.4"
  }
 },
 "nbformat": 4,
 "nbformat_minor": 4
}
