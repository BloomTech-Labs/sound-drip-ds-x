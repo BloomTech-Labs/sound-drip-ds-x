{
 "cells": [
  {
   "cell_type": "code",
   "execution_count": 1,
   "metadata": {},
   "outputs": [],
   "source": [
    "import pandas as pd\n",
    "from pickle import load"
   ]
  },
  {
   "cell_type": "code",
   "execution_count": 2,
   "metadata": {},
   "outputs": [],
   "source": [
    "df = load(open('song_list_v7.pkl', 'rb'))"
   ]
  },
  {
   "cell_type": "markdown",
   "metadata": {},
   "source": [
    "### Re-labeling bins to standardize include,exclude"
   ]
  },
  {
   "cell_type": "code",
   "execution_count": 3,
   "metadata": {},
   "outputs": [],
   "source": [
    "# shift end-year-label to follow pattern of exlcuding end-year\n",
    "df['by_decade_and_quinquennial'] = df['by_decade_and_quinquennial'].replace('2015-2019','2015-2020')\n",
    "\n",
    "# where year is 1950 and quin bin is >50, replace quin bin with 50-60\n",
    "df.loc[df['year'].eq(1950) & df['by_decade_and_quinquennial'].eq('>50s'), 'by_decade_and_quinquennial'] = '50-60'\n",
    "\n",
    "# resetting index to remove missing indexes\n",
    "df = df.reset_index(drop=True)\n",
    "\n",
    "# rename for convenience\n",
    "df = df.rename(columns={'by_decade_and_quinquennial':'quin_bins'})\n",
    "\n",
    "# removing unwanted columns\n",
    "df = df.drop(['index'], axis=1);"
   ]
  },
  {
   "cell_type": "markdown",
   "metadata": {},
   "source": [
    "### Quick custom test to ensure year column value is in correct labeled range"
   ]
  },
  {
   "cell_type": "code",
   "execution_count": 4,
   "metadata": {},
   "outputs": [],
   "source": [
    "for idx in range(len(df)):\n",
    "    \n",
    "    try:\n",
    "        year = df['year'][idx]\n",
    "    except KeyError: # Catch missing indexes, should be fixed\n",
    "        print('.')\n",
    "        continue\n",
    "    \n",
    "    \n",
    "    # using the bin values from column:'quin_bins', hard set for 2020 and except=(>50)\n",
    "    try:\n",
    "        if year == 2020:\n",
    "            bin_range = [2020, 2021]\n",
    "        else:\n",
    "            bin_range = [int(ele) for ele in df['quin_bins'][idx].split('-')]\n",
    "    except:\n",
    "        bin_range = [0, 1950]\n",
    "        \n",
    "    \n",
    "    # adding century and millenia to decade abreviations\n",
    "    for idx, ele in enumerate(bin_range):\n",
    "        if len(str(ele)) == 2:\n",
    "            bin_range[idx] = ele + 1900\n",
    "            \n",
    "    \n",
    "    try:\n",
    "        assert year in range(bin_range[0], bin_range[1])\n",
    "    except:\n",
    "        print(idx, year, bin_range)\n",
    "        break"
   ]
  },
  {
   "cell_type": "markdown",
   "metadata": {},
   "source": [
    "#### If nothing returns here ^^ , test passed. DISCLAIMER- not a comprehensive test"
   ]
  },
  {
   "cell_type": "markdown",
   "metadata": {},
   "source": [
    "#### Pickle off new trimmed and binned df"
   ]
  },
  {
   "cell_type": "code",
   "execution_count": null,
   "metadata": {},
   "outputs": [],
   "source": [
    "df.to_pickle('song_list_v7_binned.pkl')"
   ]
  }
 ],
 "metadata": {
  "kernelspec": {
   "display_name": "Python 3",
   "language": "python",
   "name": "python3"
  },
  "language_info": {
   "codemirror_mode": {
    "name": "ipython",
    "version": 3
   },
   "file_extension": ".py",
   "mimetype": "text/x-python",
   "name": "python",
   "nbconvert_exporter": "python",
   "pygments_lexer": "ipython3",
   "version": "3.8.3"
  }
 },
 "nbformat": 4,
 "nbformat_minor": 4
}
